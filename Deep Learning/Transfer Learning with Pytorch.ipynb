{
 "cells": [
  {
   "cell_type": "markdown",
   "metadata": {},
   "source": [
    "\n",
    "# Transfer Learning with Pytorch"
   ]
  },
  {
   "cell_type": "markdown",
   "metadata": {},
   "source": [
    "In this excercise, you will implement a 2-class classification neural network, using transfer learning from a pre-trained resnet18 network. A pre-trained model is a model that was trained on a large benchmark dataset to solve a problem similar to the one that we want to solve (but not identical). The pre-trained network could have been trained on a different dataset and sometimes also on a different task. The important thing is that it would be a related task and a realted dataset. This way, we can leverage previous learneinng to solve the new problem (instead of training the model from scratch). The ResNet18 model was pre-trained on the [ImageNet](http://image-net.org/index) dataset (a large dataset consisting of 1.4M images and 1000 classes). \n",
    "\n",
    "Transfer learning can be used in two ways:\n",
    "1. Feature extractor: Here we remove top layers, freeze the weights of all remaining layers, add a new fully connected layers on top of the pretrained model. Then. we train only these new layers to solve the new task.\n",
    "2. Fine tuning: Here we unfreezing the entire model (or part of it), add a new fully connected layers on top of the pre-trained model (as before) and re-train the entire model on the new data with a very low learning rate. We can use either end-to-end re-training, or re-train only part of the network.\n",
    "\n",
    "### CIFAR-10 Dataset:\n",
    "\n",
    "In this assignment, you will need to perform transfer learning using the ResNet18 network in order to classify and discern between images of cats and dogs in a different dataset: [CIFAR-10](https://www.cs.toronto.edu/~kriz/cifar.html) \n",
    "\n"
   ]
  },
  {
   "cell_type": "markdown",
   "metadata": {},
   "source": [
    "# Part 1- Feature Extractor"
   ]
  },
  {
   "cell_type": "markdown",
   "metadata": {},
   "source": [
    "In this part of the exercise, you need to classify images of 'Cat' and 'Dog' by using transfer learning with the feature extractor approach and a pre-trained ResNet18 network.\n",
    "\n",
    "The pre-trained model is built out of two main parts, the features and the classifier. The features part is a stack of convolutional layers. You will need to extract the image representation that should be fed into a classifier. For the classifier, please use a single fully-connected layer. \n",
    "\n",
    "\n",
    "In order to make things efficient, start by using the ResNet18 network in order to extract image represetnations for the images in CIFAR-10 dataset. Please make sure to this only once (please do not extract the image representations each time it is needed in the training phase)! You can store the resulting image representations as feature vectors and train the classifier using these vectors. At test time, you can merge both network in order to achive a single end-to-end classifier.  \n",
    "Note: This is different from what you saw in the recitation (dl_r4_cnns).\n",
    "\n",
    "At the test time, you can merge the feature extraction netowork with the new prediction head, in order to recive a \"full solution\".\n"
   ]
  },
  {
   "cell_type": "markdown",
   "metadata": {},
   "source": [
    "**Let's first import all the packages that you will need during this part of assignment:**"
   ]
  },
  {
   "cell_type": "code",
   "execution_count": 1,
   "metadata": {},
   "outputs": [],
   "source": [
    "import torch\n",
    "from torch import nn\n",
    "import torchvision\n",
    "from torchvision import datasets, models, transforms\n",
    "\n",
    "import matplotlib.pyplot as plt\n",
    "import numpy as np\n",
    "from sklearn.linear_model import LogisticRegression, LogisticRegressionCV\n",
    "import time\n",
    "\n",
    "import sklearn\n",
    "from sklearn.linear_model import LogisticRegression, LinearRegression\n",
    "from sklearn.metrics import roc_auc_score, roc_curve, auc\n",
    "import copy"
   ]
  },
  {
   "cell_type": "markdown",
   "metadata": {},
   "source": [
    "The ResNet18 network requires images of at least 200x200 pixels. However, the CIFAR-10 dataset consists of small images of 32x32 pixels. Hence, you will need to reshape the images before we use them into the ResNet18 network.\n",
    "Additionally, you will need to match the normalization used while training the ResNet18: each color channel should be normalized separately. The channel means are [0.485, 0.456, 0.406] and the standard deviations are [0.229, 0.224, 0.225]."
   ]
  },
  {
   "cell_type": "markdown",
   "metadata": {},
   "source": [
    "**Use the transforms library from  torchvision and definethese transformations:**"
   ]
  },
  {
   "cell_type": "code",
   "execution_count": 2,
   "metadata": {},
   "outputs": [],
   "source": [
    "# Specify transforms using torchvision.transforms as transforms library\n",
    "# first, resize tthe picture to be in the correct size, convert to tensor and finally normalize.\n",
    "transform = transforms.Compose(\n",
    "    [transforms.Resize((224, 224)),\n",
    "     transforms.ToTensor(),\n",
    "     transforms.Normalize((0.485, 0.456, 0.406), (0.229, 0.224, 0.225))])"
   ]
  },
  {
   "cell_type": "markdown",
   "metadata": {},
   "source": [
    "#### Load CIFAR10 dataset and transform dataset from torchvision:"
   ]
  },
  {
   "cell_type": "code",
   "execution_count": 3,
   "metadata": {},
   "outputs": [
    {
     "name": "stdout",
     "output_type": "stream",
     "text": [
      "Files already downloaded and verified\n",
      "Files already downloaded and verified\n"
     ]
    }
   ],
   "source": [
    "# load the train and test sets and apply the transform\n",
    "train = datasets.CIFAR10(root='./data', train=True,\n",
    "                                        download=True, transform=transform)\n",
    "test = datasets.CIFAR10(root='./data', train=False,\n",
    "                                       download=True, transform=transform)"
   ]
  },
  {
   "cell_type": "markdown",
   "metadata": {},
   "source": [
    "**Note that the CIFAR10 data set includes 10 labels. Please extract from the entire dataset, only the images with 'Cat' or 'Dog' labels.\n",
    "In order to make the training process faster, you will need to trim the train set to 800 training images of each label (800 dogs and 800 cats). The test set should be trimmed to 250 images of cats and 250 images of dogs.**"
   ]
  },
  {
   "cell_type": "markdown",
   "metadata": {},
   "source": [
    "<b>arrange the train set:"
   ]
  },
  {
   "cell_type": "code",
   "execution_count": 4,
   "metadata": {},
   "outputs": [],
   "source": [
    "# get the indexes only for classes of cat and dog\n",
    "cat_index_train = train.classes.index('cat')\n",
    "dog_index_train = train.classes.index('dog')\n",
    "\n",
    "# get the indices where we have cat and dog in the train set (by the indexes we got before)\n",
    "idx_train_cat_train = torch.tensor(train.targets) == cat_index_train\n",
    "idx_train_dog_train = torch.tensor(train.targets) == dog_index_train\n",
    "\n",
    "# get the indexes where we indeed have the cat/dog (we have True from the previous condition) and leave 800 samples for each\n",
    "idx_train_cat_arrange_train = (torch.where(idx_train_cat_train==True))[0][0:800]\n",
    "idx_train_dog__arrange_train = (torch.where(idx_train_dog_train==True))[0][0:800]\n",
    "\n",
    "# concatenate all the indexes we want in the train set (dog/cat)\n",
    "cat_dog_idx_train = torch.cat((idx_train_cat_arrange_train, idx_train_dog__arrange_train), 0)\n",
    "# define the train set with the correct indexes\n",
    "train.data = train.data[cat_dog_idx_train]\n",
    "# get the targets of this train set\n",
    "train.targets = torch.tensor(train.targets)[cat_dog_idx_train]"
   ]
  },
  {
   "cell_type": "markdown",
   "metadata": {},
   "source": [
    "<b>arrange the test set:"
   ]
  },
  {
   "cell_type": "code",
   "execution_count": 5,
   "metadata": {},
   "outputs": [],
   "source": [
    "# arrange the test set\n",
    "# get the indexes only for classes of cat and dog\n",
    "cat_index_test = test.classes.index('cat')\n",
    "dog_index_test = test.classes.index('dog')\n",
    "\n",
    "# get the indices where we have cat and dog in the test set (by the indexes we got before)\n",
    "idx_test_cat_test = torch.tensor(test.targets) == cat_index_test\n",
    "idx_test_dog_test = torch.tensor(test.targets) == dog_index_test\n",
    "\n",
    "# get the indexes where we indeed have the cat/dog (we have True from the previous condition) and leave 800 samples for each\n",
    "idx_test_cat_arrange_test = (torch.where(idx_test_cat_test==True))[0][0:250]\n",
    "idx_test_dog_arrange_test = (torch.where(idx_test_dog_test==True))[0][0:250]\n",
    "\n",
    "# concatenate all the indexes we want in the test set (dog/cat)\n",
    "cat_dog_idx_test = torch.cat((idx_test_cat_arrange_test, idx_test_dog_arrange_test), 0)\n",
    "# define the test set with the correct indexes\n",
    "test.data = test.data[cat_dog_idx_test]\n",
    "# get the targets of this test set\n",
    "test.targets = torch.tensor(test.targets)[cat_dog_idx_test]"
   ]
  },
  {
   "cell_type": "markdown",
   "metadata": {},
   "source": [
    "<b> change targets to be 0 and 1: </b> 0 for cat and 1 for dog"
   ]
  },
  {
   "cell_type": "code",
   "execution_count": 6,
   "metadata": {},
   "outputs": [],
   "source": [
    "# change the cat target index to be 0\n",
    "# get the indexes where we have the old index of cat in train set and change them to be 0\n",
    "indexes = (train.targets == cat_index_train)\n",
    "train.targets[indexes] = 0\n",
    "# get the indexes where we have the old index of cat in test set and change them to be 0\n",
    "indexes = (test.targets == cat_index_test)\n",
    "test.targets[indexes] = 0\n",
    "\n",
    "# change the dog target index to be 1\n",
    "# get the indexes where we have the old index of dog in train set and change them to be 1\n",
    "indexes = (train.targets == dog_index_train)\n",
    "train.targets[indexes] = 1\n",
    "# get the indexes where we have the old index of dog in test set and change them to be 1\n",
    "indexes = (test.targets == dog_index_test)\n",
    "test.targets[indexes] = 1"
   ]
  },
  {
   "cell_type": "markdown",
   "metadata": {},
   "source": [
    "**Download the ResNet18 Network from torchvision.models (as seen in the tutorial):**"
   ]
  },
  {
   "cell_type": "code",
   "execution_count": 7,
   "metadata": {},
   "outputs": [
    {
     "name": "stderr",
     "output_type": "stream",
     "text": [
      "Downloading: \"https://download.pytorch.org/models/resnet18-f37072fd.pth\" to C:\\Users\\user/.cache\\torch\\hub\\checkpoints\\resnet18-f37072fd.pth\n"
     ]
    },
    {
     "data": {
      "application/vnd.jupyter.widget-view+json": {
       "model_id": "915ef12720a2432f8761db49ebbc0091",
       "version_major": 2,
       "version_minor": 0
      },
      "text/plain": [
       "  0%|          | 0.00/44.7M [00:00<?, ?B/s]"
      ]
     },
     "metadata": {},
     "output_type": "display_data"
    }
   ],
   "source": [
    "# load resnet18 network\n",
    "model_resnet_18 = models.resnet18(pretrained=True)"
   ]
  },
  {
   "cell_type": "markdown",
   "metadata": {},
   "source": [
    "#### Now, use the pre-trained Resnet18 to extract feautres from the CIFAR10 dataset and feed your classifier with these feature vectors. To do that, you need to cut the head of the pre-trained ResNet18 model, then feed the model with the CIFAR10 data sets (train and test).  The resulting image representations should be \"flattened\" and used as feature vectors:"
   ]
  },
  {
   "cell_type": "code",
   "execution_count": 7,
   "metadata": {},
   "outputs": [],
   "source": [
    "# define the sizes of each class in each set (train/test)\n",
    "train_size_class = 800\n",
    "test_size_class = 250"
   ]
  },
  {
   "cell_type": "code",
   "execution_count": 8,
   "metadata": {},
   "outputs": [],
   "source": [
    "# define DataLoader for each set (train/test)\n",
    "train_loader = torch.utils.data.DataLoader(train, batch_size=train_size_class*2, shuffle=1)\n",
    "test_loader = torch.utils.data.DataLoader(test, batch_size=test_size_class*2, shuffle=1)"
   ]
  },
  {
   "cell_type": "code",
   "execution_count": 9,
   "metadata": {},
   "outputs": [],
   "source": [
    "# get the X and Y of train set and test set from the DataLoaders we defined above\n",
    "x_train_resnet, y_train = next(iter(train_loader))\n",
    "x_test_resnet, y_test = next(iter(test_loader))"
   ]
  },
  {
   "cell_type": "code",
   "execution_count": 11,
   "metadata": {},
   "outputs": [],
   "source": [
    "# get the size of the classifier input\n",
    "num_features = model_resnet_18.fc.in_features \n",
    "# cut the head of the pre-trained model we got from resnet\n",
    "model_resnet_18.fc = nn.Sequential() "
   ]
  },
  {
   "cell_type": "code",
   "execution_count": 12,
   "metadata": {},
   "outputs": [],
   "source": [
    "# get the feature vectors for the train set\n",
    "model_resnet_18.eval() \n",
    "x_train = model_resnet_18(x_train_resnet) \n",
    "# get the feature vectors for the test set\n",
    "model_resnet_18.eval()\n",
    "x_test = model_resnet_18(x_test_resnet)"
   ]
  },
  {
   "cell_type": "code",
   "execution_count": 13,
   "metadata": {},
   "outputs": [
    {
     "data": {
      "text/plain": [
       "torch.Size([1600])"
      ]
     },
     "execution_count": 13,
     "metadata": {},
     "output_type": "execute_result"
    }
   ],
   "source": [
    "y_train.shape"
   ]
  },
  {
   "cell_type": "markdown",
   "metadata": {},
   "source": [
    "# Logistic Regression with scikit-learn library:"
   ]
  },
  {
   "cell_type": "markdown",
   "metadata": {},
   "source": [
    "#### Here, you need to use a logistic regession model from scikit-learn and train it with the data you prepared above. You need to calculate and report the accuracy and AUC for the train and test sets and explain your results."
   ]
  },
  {
   "cell_type": "code",
   "execution_count": 14,
   "metadata": {},
   "outputs": [
    {
     "name": "stdout",
     "output_type": "stream",
     "text": [
      "Train AUC: 0.9728703125\n",
      "Test AUC: 0.934944\n",
      "Train Accuracy: 90.5 %\n",
      "Test Accuracy: 85.0 %\n"
     ]
    }
   ],
   "source": [
    "# convert all the data and labels (train+test) to numpy array\n",
    "x_train_np = x_train.data.numpy()\n",
    "y_train_np = y_train.numpy()\n",
    "x_test_np = x_test.data.numpy()\n",
    "y_test_np = y_test.numpy()\n",
    "\n",
    "# define the classifier to logistic regression and fit the train data\n",
    "LR = LogisticRegression(C=0.01, solver='liblinear').fit(x_train_np, y_train_np)\n",
    "\n",
    "# predict the probability for each class on the train and test data- need for AUC\n",
    "y_prob_hat_train_lr = LR.predict_proba(x_train_np)\n",
    "y_prob_hat_test_lr = LR.predict_proba(x_test_np)\n",
    "\n",
    "# predict the lables on the train and test data- need for accuracy\n",
    "y_hat_train_lr = LR.predict(x_train_np)\n",
    "y_hat_test_lr = LR.predict(x_test_np)\n",
    "\n",
    "# calculate and print all the measures we need\n",
    "print('Train AUC:', roc_auc_score(y_train_np, y_prob_hat_train_lr[:,1]))\n",
    "print('Test AUC:', roc_auc_score(y_test_np, y_prob_hat_test_lr[:,1]))\n",
    "print('Train Accuracy:', 100 * np.sum(y_train_np == y_hat_train_lr) / len(y_hat_train_lr),'%')\n",
    "print('Test Accuracy:', 100 * np.sum(y_test_np == y_hat_test_lr) / len(y_hat_test_lr),'%')"
   ]
  },
  {
   "cell_type": "markdown",
   "metadata": {},
   "source": [
    "<b> Explanation: </b><br>\n",
    "As can be seen above, the measures of the train data is higher than the measures of the test data.\n",
    "We expected to get these values because the whole network was trained on the training data and therefore the measures of the training data are higher. The accuracy of the test data is around 93% and the AUC of the test data is 85%. Both measures are above 85%. This indicates for good results."
   ]
  },
  {
   "cell_type": "markdown",
   "metadata": {},
   "source": [
    "# Logistic Regression with pytorch:\n",
    "\n",
    "#### Next, you need to use a logistic regession using pythourch as follows:\n",
    "\n",
    "\n",
    "1. Explain the choice of architecture in the head of the neural network.\n",
    "2. Plot training loss per epoch.\n",
    "3. Plot AUC per epoch for train and validation sets.\n",
    "4. Explain your results and findings.\n",
    "5. Does adding one or two hidden layers affect the generalization capabilities of the model?"
   ]
  },
  {
   "cell_type": "markdown",
   "metadata": {},
   "source": [
    "#### Define the model:"
   ]
  },
  {
   "cell_type": "code",
   "execution_count": 15,
   "metadata": {},
   "outputs": [],
   "source": [
    "# convert all the data and labels (train+test) from numpy array to FloatTensor\n",
    "x_train_t = torch.FloatTensor(x_train_np)\n",
    "x_test_t = torch.FloatTensor(x_test_np)\n",
    "y_train_t = torch.FloatTensor(y_train_np).reshape(-1,1)\n",
    "y_test_t = torch.FloatTensor(y_test_np).reshape(-1,1)"
   ]
  },
  {
   "cell_type": "markdown",
   "metadata": {},
   "source": [
    "<b> Explanation for the architecture: </b><br>\n",
    "in the head of the NN we need to use the architecture of logistic regression, just as we did in exercise 1. <br>\n",
    "So, we use one layer network that ends with one neuron (one binary classification) and sigmoid function as we learn we need for logistic regression."
   ]
  },
  {
   "cell_type": "code",
   "execution_count": 16,
   "metadata": {},
   "outputs": [
    {
     "data": {
      "text/plain": [
       "Sequential(\n",
       "  (0): Linear(in_features=512, out_features=1, bias=True)\n",
       "  (1): Sigmoid()\n",
       ")"
      ]
     },
     "execution_count": 16,
     "metadata": {},
     "output_type": "execute_result"
    }
   ],
   "source": [
    "# for binary classification we need one nodes in the output\n",
    "n_output = 1\n",
    "# One layer network that ends with one neuron and sigmoid function\n",
    "net_18_lr = nn.Sequential(nn.Linear(num_features, n_output), nn.Sigmoid())\n",
    "net_18_lr"
   ]
  },
  {
   "cell_type": "code",
   "execution_count": 17,
   "metadata": {},
   "outputs": [],
   "source": [
    "# define the loss function (binary cross entropy for logistic), learning rate and the optimizer\n",
    "loss_func = nn.BCELoss()\n",
    "learning_rate = 0.01\n",
    "optimizer = torch.optim.Adam(net_18_lr.parameters(), lr=learning_rate)"
   ]
  },
  {
   "cell_type": "markdown",
   "metadata": {},
   "source": [
    "#### Training and validation:"
   ]
  },
  {
   "cell_type": "code",
   "execution_count": 18,
   "metadata": {},
   "outputs": [],
   "source": [
    "# reset all the parameters\n",
    "for layer in net_18_lr.children():\n",
    "    if hasattr(layer, 'reset_parameters'):\n",
    "        layer.reset_parameters()\n",
    "# resetting the gradinates        \n",
    "optimizer.zero_grad()\n",
    "# create lists for loss, accuracy and auc that will save the parameters from the different iterations for the plots\n",
    "train_loss = []\n",
    "train_accuracy = []\n",
    "train_auc = []\n",
    "test_auc = []\n",
    "# define numer of iterations\n",
    "iters = 100\n",
    "\n",
    "# for each iteration\n",
    "for i in range(iters):\n",
    "    # apply the net with the train and test data\n",
    "    y_hat_train = net_18_lr(x_train_t)\n",
    "    y_hat_test = net_18_lr(x_test_t)\n",
    "     # compute the loss value with the predicted values of train with the true labels\n",
    "    loss = loss_func(y_hat_train, y_train_t)\n",
    "     # apply the backward with the loss we got\n",
    "    loss.backward()\n",
    "    # apply step for the updates\n",
    "    optimizer.step()\n",
    "    # resetting the gradinates\n",
    "    optimizer.zero_grad()\n",
    "    \n",
    "    # convert lables to 0 and 1\n",
    "    y_hat_train_class = np.where(y_hat_train.detach().numpy() < 0.5, 0, 1)\n",
    "    # compute accuracy for train set and append it to the appropriate list\n",
    "    accuracy = np.sum(y_hat_train_class == y_train_t.detach().numpy().reshape(-1, 1)) / len(y_train_t)\n",
    "    train_accuracy.append(accuracy)\n",
    "    # compute AUC for train set and append it to the appropriate list\n",
    "    auc = roc_auc_score(y_train_t, y_hat_train.detach().numpy())\n",
    "    train_auc.append(auc)\n",
    "    # compute AUC for test set and append it to the appropriate list\n",
    "    auc = roc_auc_score(y_test_t, y_hat_test.detach().numpy())\n",
    "    test_auc.append(auc)\n",
    "    # append the loss to the appropriate list\n",
    "    train_loss.append(loss.item())\n"
   ]
  },
  {
   "cell_type": "markdown",
   "metadata": {},
   "source": [
    "#### Visualizing the plots:"
   ]
  },
  {
   "cell_type": "code",
   "execution_count": 19,
   "metadata": {},
   "outputs": [
    {
     "data": {
      "image/png": "[encoded data removed]",
      "text/plain": [
       "<Figure size 864x576 with 2 Axes>"
      ]
     },
     "metadata": {
      "needs_background": "light"
     },
     "output_type": "display_data"
    },
    {
     "name": "stdout",
     "output_type": "stream",
     "text": [
      "Train AUC: 0.973, Validation AUC: 0.934\n",
      "Train Accuracy: 90.750 %\n",
      "Validation Accuracy: 84.800 %\n"
     ]
    }
   ],
   "source": [
    "# plot the AUC and loss vs epoch for the training set and test set\n",
    "# create figure for all the  plots\n",
    "fig = plt.figure(figsize=(12, 8))\n",
    "\n",
    "# create train loss plot and add lables and title\n",
    "ax1 = fig.add_subplot(2, 1, 1)\n",
    "ax1.plot(train_loss , color='blue')\n",
    "ax1.set_ylabel('Training Loss')\n",
    "ax1.set_xlabel(\"Epoch\")\n",
    "ax1.title.set_text('loss vs epoch for the training set')\n",
    "\n",
    "# create AUC plot for train and test sets and add lables and title\n",
    "ax2 = fig.add_subplot(2, 1, 2)\n",
    "ax2.plot(train_auc, label='train_auc', color='green')\n",
    "ax2.plot(test_auc, label='validation_auc', color='green', linestyle='--')\n",
    "ax2.legend(loc=1)\n",
    "ax2.set_ylabel('AUC')\n",
    "ax2.set_xlabel(\"Epoch\")\n",
    "ax2.title.set_text('AUC vs epoch for the training set and test(validation) set')\n",
    "# add spaces between the sub plots\n",
    "plt.tight_layout()\n",
    "plt.show()\n",
    "\n",
    "# compute accurcay for ptinting\n",
    "# apply the net with the test data\n",
    "y_hat_test = net_18_lr(x_test_t)\n",
    "# convert lables to 0 and 1\n",
    "y_hat_test_class = np.where(y_hat_test.data.numpy() < 0.5, 0, 1)\n",
    "# compute accuracy \n",
    "test_accuracy = np.sum(y_hat_test_class == y_test_t.data.numpy()) / len(y_hat_test_class)\n",
    "\n",
    "# print measures\n",
    "print('Train AUC: %.3f, Validation AUC: %.3f' % (train_auc[-1], test_auc[-1]))\n",
    "print('Train Accuracy: %.3f %s' % (train_accuracy[-1] * 100, '%'))\n",
    "print('Validation Accuracy: %.3f %s' % (test_accuracy * 100, '%'))"
   ]
  },
  {
   "cell_type": "markdown",
   "metadata": {},
   "source": [
    "<b> explanation: </b><br>\n",
    "As can be seen above, the training loss decreases as long as the number of Epochs increases. In addition, the AUC for the train data increases with the number of Epochs while the AUC of the validation data stops increasing from some point and therefore we chose 100 Epochs for the training stage.\n",
    "The test AUC and accuracy are similar for both torch and sklearn regressions. The train AUC and accuracy is a bit higher on the sklearn regression. We assume that this happened because we chose 100 Epochs for the tensor network in order to prevent overfitting."
   ]
  },
  {
   "cell_type": "markdown",
   "metadata": {},
   "source": [
    "<b> Question 5:"
   ]
  },
  {
   "cell_type": "code",
   "execution_count": 20,
   "metadata": {},
   "outputs": [],
   "source": [
    "# for binary classification we need one nodes in the output\n",
    "n_output = 1\n",
    "# 3 layer network (2 hidden layers) that ends with one neuron and sigmoid function\n",
    "net_18_lr_temp = nn.Sequential(nn.Linear(num_features,50), nn.Sigmoid(),nn.Linear(50,10), nn.Sigmoid(), nn.Linear(10, n_output), nn.Sigmoid())"
   ]
  },
  {
   "cell_type": "code",
   "execution_count": 21,
   "metadata": {},
   "outputs": [],
   "source": [
    "# reset all the parameters\n",
    "for layer in net_18_lr_temp.children():\n",
    "    if hasattr(layer, 'reset_parameters'):\n",
    "        layer.reset_parameters()\n",
    "# resetting the gradinates        \n",
    "optimizer.zero_grad()\n",
    "# create lists for loss, accuracy and auc that will save the parameters from the different iterations for the plots\n",
    "train_loss = []\n",
    "train_accuracy = []\n",
    "train_auc = []\n",
    "test_auc = []\n",
    "# define numer of iterations\n",
    "iters = 1000\n",
    "\n",
    "# for each iteration\n",
    "for i in range(iters):\n",
    "    # apply the net with the train and test data\n",
    "    y_hat_train = net_18_lr_temp(x_train_t)\n",
    "    y_hat_test = net_18_lr_temp(x_test_t)\n",
    "     # compute the loss value with the predicted values of train with the true labels\n",
    "    loss = loss_func(y_hat_train, y_train_t)\n",
    "     # apply the backward with the loss we got\n",
    "    loss.backward()\n",
    "    # apply step for the updates\n",
    "    optimizer.step()\n",
    "    # resetting the gradinates\n",
    "    optimizer.zero_grad()\n",
    "    \n",
    "    # convert lables to 0 and 1\n",
    "    y_hat_train_class = np.where(y_hat_train.detach().numpy() < 0.5, 0, 1)\n",
    "    # compute accuracy for train set and append it to the appropriate list\n",
    "    accuracy = np.sum(y_hat_train_class == y_train_t.detach().numpy().reshape(-1, 1)) / len(y_train_t)\n",
    "    train_accuracy.append(accuracy)\n",
    "    # compute AUC for train set and append it to the appropriate list\n",
    "    auc = roc_auc_score(y_train_t, y_hat_train.detach().numpy())\n",
    "    train_auc.append(auc)\n",
    "    # compute AUC for test set and append it to the appropriate list\n",
    "    auc = roc_auc_score(y_test_t, y_hat_test.detach().numpy())\n",
    "    test_auc.append(auc)\n",
    "    # append the loss to the appropriate list\n",
    "    train_loss.append(loss.item())\n"
   ]
  },
  {
   "cell_type": "code",
   "execution_count": 22,
   "metadata": {},
   "outputs": [
    {
     "data": {
      "image/png": "[encoded data removed]",
      "text/plain": [
       "<Figure size 864x576 with 2 Axes>"
      ]
     },
     "metadata": {
      "needs_background": "light"
     },
     "output_type": "display_data"
    },
    {
     "name": "stdout",
     "output_type": "stream",
     "text": [
      "Train AUC: 0.489, Validation AUC: 0.487\n",
      "Train Accuracy: 50.000 %\n",
      "Validation Accuracy: 50.000 %\n"
     ]
    }
   ],
   "source": [
    "# plot the AUC and loss vs epoch for the training set and test set\n",
    "# create figure for all the  plots\n",
    "fig = plt.figure(figsize=(12, 8))\n",
    "\n",
    "# create train loss plot and add lables and title\n",
    "ax1 = fig.add_subplot(2, 1, 1)\n",
    "ax1.plot(train_loss , color='blue')\n",
    "ax1.set_ylabel('Training Loss')\n",
    "ax1.set_xlabel(\"Epoch\")\n",
    "ax1.title.set_text('loss vs epoch for the training set')\n",
    "\n",
    "# create AUC plot for train and test sets and add lables and title\n",
    "ax2 = fig.add_subplot(2, 1, 2)\n",
    "ax2.plot(train_auc, label='train_auc', color='green')\n",
    "ax2.plot(test_auc, label='validation_auc', color='green', linestyle='--')\n",
    "ax2.legend(loc=1)\n",
    "ax2.set_ylabel('AUC')\n",
    "ax2.set_xlabel(\"Epoch\")\n",
    "ax2.title.set_text('AUC vs epoch for the training set and test(validation) set')\n",
    "# add spaces between the sub plots\n",
    "plt.tight_layout()\n",
    "plt.show()\n",
    "\n",
    "# compute accurcay for ptinting\n",
    "# apply the net with the test data\n",
    "y_hat_test = net_18_lr_temp(x_test_t)\n",
    "# convert lables to 0 and 1\n",
    "y_hat_test_class = np.where(y_hat_test.data.numpy() < 0.5, 0, 1)\n",
    "# compute accuracy \n",
    "test_accuracy = np.sum(y_hat_test_class == y_test_t.data.numpy()) / len(y_hat_test_class)\n",
    "\n",
    "# print measures\n",
    "print('Train AUC: %.3f, Validation AUC: %.3f' % (train_auc[-1], test_auc[-1]))\n",
    "print('Train Accuracy: %.3f %s' % (train_accuracy[-1] * 100, '%'))\n",
    "print('Validation Accuracy: %.3f %s' % (test_accuracy * 100, '%'))"
   ]
  },
  {
   "cell_type": "markdown",
   "metadata": {},
   "source": [
    "<b>Explanation:</b><br>Adding two complex hidden layers may affect the generalization capabilities of the model. As can be seen above, both AUC and accuracy for the train and test data are lower when we complex the network structure. "
   ]
  },
  {
   "cell_type": "markdown",
   "metadata": {},
   "source": [
    "**Here you should merge the feature extractor network layers with the PyTorch logistic regression classifier.**"
   ]
  },
  {
   "cell_type": "code",
   "execution_count": 23,
   "metadata": {},
   "outputs": [],
   "source": [
    "# merge the logistic regression (we did with pytorch) with the network\n",
    "model_resnet_18.fc = net_18_lr"
   ]
  },
  {
   "cell_type": "markdown",
   "metadata": {},
   "source": [
    "# Comparing  ResNet18 with ResNet34:"
   ]
  },
  {
   "cell_type": "markdown",
   "metadata": {},
   "source": [
    "#### Download the ResNet34 Network from torchvision.models. Then, repeat the steps described above in order to compare between these ResNet18 and ResNet43. Explain your findings and results!"
   ]
  },
  {
   "cell_type": "code",
   "execution_count": 10,
   "metadata": {},
   "outputs": [
    {
     "name": "stderr",
     "output_type": "stream",
     "text": [
      "Downloading: \"https://download.pytorch.org/models/resnet34-b627a593.pth\" to C:\\Users\\user/.cache\\torch\\hub\\checkpoints\\resnet34-b627a593.pth\n"
     ]
    },
    {
     "data": {
      "application/vnd.jupyter.widget-view+json": {
       "model_id": "e22d36e1b96a4ea988cd06687effb739",
       "version_major": 2,
       "version_minor": 0
      },
      "text/plain": [
       "  0%|          | 0.00/83.3M [00:00<?, ?B/s]"
      ]
     },
     "metadata": {},
     "output_type": "display_data"
    }
   ],
   "source": [
    "# load resnet34 network\n",
    "model_resnet_34 = models.resnet34(pretrained=True)"
   ]
  },
  {
   "cell_type": "code",
   "execution_count": 11,
   "metadata": {},
   "outputs": [],
   "source": [
    "# get the X and Y of train set and test set from the DataLoaders we defined above\n",
    "x_train_resnet, y_train = next(iter(train_loader))\n",
    "x_test_resnet, y_test = next(iter(test_loader))"
   ]
  },
  {
   "cell_type": "code",
   "execution_count": 12,
   "metadata": {},
   "outputs": [],
   "source": [
    "# get the size of the classifier input\n",
    "num_features = model_resnet_34.fc.in_features\n",
    "# cut the head of the pre-trained model we got from resnet\n",
    "model_resnet_34.fc = nn.Sequential()"
   ]
  },
  {
   "cell_type": "code",
   "execution_count": 13,
   "metadata": {},
   "outputs": [],
   "source": [
    "# get the feature vectors for the train set\n",
    "model_resnet_34.eval() \n",
    "x_train = model_resnet_34(x_train_resnet)\n",
    "# get the feature vectors for the test set\n",
    "model_resnet_34.eval()\n",
    "x_test = model_resnet_34(x_test_resnet)"
   ]
  },
  {
   "cell_type": "markdown",
   "metadata": {},
   "source": [
    "# Logistic Regression with scikit-learn library:"
   ]
  },
  {
   "cell_type": "code",
   "execution_count": 14,
   "metadata": {},
   "outputs": [
    {
     "name": "stdout",
     "output_type": "stream",
     "text": [
      "Train AUC: 0.9943625\n",
      "Test AUC: 0.9377120000000001\n",
      "Train Accuracy: 96.0 %\n",
      "Test Accuracy: 86.4 %\n"
     ]
    }
   ],
   "source": [
    "# convert all the data and labels (train+test) to numpy array\n",
    "x_train_np = x_train.data.numpy()\n",
    "y_train_np = y_train.numpy()\n",
    "x_test_np = x_test.data.numpy()\n",
    "y_test_np = y_test.numpy()\n",
    "\n",
    "# define the classifier to logistic regression and fit the train data\n",
    "LR = LogisticRegression(C=0.1, solver='liblinear').fit(x_train_np, y_train_np)\n",
    "\n",
    "# predict the probability for each class on the train and test data- need for AUC\n",
    "y_hat_train_Prob_lr = LR.predict_proba(x_train_np)\n",
    "y_hat_test_Prob_lr = LR.predict_proba(x_test_np)\n",
    "\n",
    "# predict the lables on the train and test data- need for accuracy\n",
    "y_hat_train_lr = LR.predict(x_train_np)\n",
    "y_hat_test_lr = LR.predict(x_test_np)\n",
    "\n",
    "# calculate and print all the measures we need\n",
    "print('Train AUC:', roc_auc_score(y_train_np, y_hat_train_Prob_lr[:,1]))\n",
    "print('Test AUC:', roc_auc_score(y_test_np, y_hat_test_Prob_lr[:,1]))\n",
    "print('Train Accuracy:', 100 * np.sum(y_train_np == y_hat_train_lr) / len(y_hat_train_lr),'%')\n",
    "print('Test Accuracy:', 100 * np.sum(y_test_np == y_hat_test_lr) / len(y_hat_test_lr),'%')"
   ]
  },
  {
   "cell_type": "markdown",
   "metadata": {},
   "source": [
    "<b> Explanation: </b><br>\n",
    "As can be seen above, the measures of the train data is higher than the measures of the test data.\n",
    "We expected to get these values because the whole network was trained on the training data and therefore the measures of the training data are higher. The accuracy of the test data is around 86.4% and the AUC of the test data is 93.7%. Both measures are above 86%. This indicates for good results.\n"
   ]
  },
  {
   "cell_type": "markdown",
   "metadata": {},
   "source": [
    "# Logistic Regression with pytorch for ResNet34:"
   ]
  },
  {
   "cell_type": "markdown",
   "metadata": {},
   "source": [
    "#### Define the model:"
   ]
  },
  {
   "cell_type": "code",
   "execution_count": 15,
   "metadata": {},
   "outputs": [],
   "source": [
    "# convert all the data and labels (train+test) from numpy array to FloatTensor\n",
    "x_train_t = torch.FloatTensor(x_train_np)\n",
    "x_test_t = torch.FloatTensor(x_test_np)\n",
    "y_train_t = torch.FloatTensor(y_train_np).reshape(-1,1)\n",
    "y_test_t = torch.FloatTensor(y_test_np).reshape(-1,1)"
   ]
  },
  {
   "cell_type": "code",
   "execution_count": 16,
   "metadata": {},
   "outputs": [
    {
     "data": {
      "text/plain": [
       "Sequential(\n",
       "  (0): Linear(in_features=512, out_features=1, bias=True)\n",
       "  (1): Sigmoid()\n",
       ")"
      ]
     },
     "execution_count": 16,
     "metadata": {},
     "output_type": "execute_result"
    }
   ],
   "source": [
    "# for binary classification we need one nodes in the output\n",
    "n_output = 1 \n",
    "# One layer network that ends with one neuron and sigmoid function\n",
    "net_34_lr = nn.Sequential(nn.Linear(num_features, n_output), nn.Sigmoid())\n",
    "net_34_lr"
   ]
  },
  {
   "cell_type": "code",
   "execution_count": 17,
   "metadata": {},
   "outputs": [],
   "source": [
    "# define the loss function (binary cross entropy for logistic), learning rate and the optimizer\n",
    "loss_func = nn.BCELoss()\n",
    "learning_rate = 0.01\n",
    "optimizer = torch.optim.Adam(net_34_lr.parameters(), lr=learning_rate)"
   ]
  },
  {
   "cell_type": "markdown",
   "metadata": {},
   "source": [
    "#### Training and validation:"
   ]
  },
  {
   "cell_type": "code",
   "execution_count": 18,
   "metadata": {},
   "outputs": [],
   "source": [
    "# reset all the parameters\n",
    "for layer in net_34_lr.children():\n",
    "    if hasattr(layer, 'reset_parameters'):\n",
    "        layer.reset_parameters()\n",
    "# resetting the gradinates        \n",
    "optimizer.zero_grad()\n",
    "# create lists for loss, accuracy and auc that will save the parameters from the different iterations for the plots\n",
    "train_loss = []\n",
    "train_accuracy = []\n",
    "train_auc = []\n",
    "test_auc = []\n",
    "# define numer of iterations\n",
    "iters = 50\n",
    "\n",
    "# for each iteration\n",
    "for i in range(iters):\n",
    "    # apply the net with the train and test data\n",
    "    y_hat_train = net_34_lr(x_train_t)\n",
    "    y_hat_test = net_34_lr(x_test_t)\n",
    "     # compute the loss value with the predicted values of train with the true labels\n",
    "    loss = loss_func(y_hat_train, y_train_t)\n",
    "     # apply the backward with the loss we got\n",
    "    loss.backward()\n",
    "    # apply step for the updates\n",
    "    optimizer.step()\n",
    "    # resetting the gradinates\n",
    "    optimizer.zero_grad()\n",
    "    \n",
    "    # convert lables to 0 and 1\n",
    "    y_hat_train_class = np.where(y_hat_train.detach().numpy() < 0.5, 0, 1)\n",
    "    # compute accuracy for train set and append it to the appropriate list\n",
    "    accuracy = np.sum(y_hat_train_class == y_train_t.detach().numpy().reshape(-1, 1)) / len(y_train_t)\n",
    "    train_accuracy.append(accuracy)\n",
    "    # compute AUC for train set and append it to the appropriate list\n",
    "    auc = roc_auc_score(y_train_t, y_hat_train.detach().numpy())\n",
    "    train_auc.append(auc)\n",
    "    # compute AUC for test set and append it to the appropriate list\n",
    "    auc = roc_auc_score(y_test_t, y_hat_test.detach().numpy())\n",
    "    test_auc.append(auc)\n",
    "    # append the loss to the appropriate list\n",
    "    train_loss.append(loss.item())"
   ]
  },
  {
   "cell_type": "markdown",
   "metadata": {},
   "source": [
    "#### Visualizing the plots:"
   ]
  },
  {
   "cell_type": "code",
   "execution_count": 19,
   "metadata": {},
   "outputs": [
    {
     "data": {
      "image/png": "[encoded data removed]",
      "text/plain": [
       "<Figure size 864x576 with 2 Axes>"
      ]
     },
     "metadata": {
      "needs_background": "light"
     },
     "output_type": "display_data"
    },
    {
     "name": "stdout",
     "output_type": "stream",
     "text": [
      "Train AUC: 0.961, Validation AUC: 0.939\n",
      "Train Accuracy: 89.438 %\n",
      "Validation Accuracy: 85.400 %\n"
     ]
    }
   ],
   "source": [
    "# plot the AUC and loss vs epoch for the training set and test set\n",
    "# create figure for all the  plots\n",
    "fig = plt.figure(figsize=(12, 8))\n",
    "\n",
    "# create train loss plot and add lables and title\n",
    "ax1 = fig.add_subplot(2, 1, 1)\n",
    "ax1.plot(train_loss , color='blue')\n",
    "ax1.set_ylabel('Training Loss')\n",
    "ax1.set_xlabel(\"Epoch\")\n",
    "ax1.title.set_text('loss vs epoch for the training set')\n",
    "\n",
    "# create AUC plot for train and test sets and add lables and title\n",
    "ax2 = fig.add_subplot(2, 1, 2)\n",
    "ax2.plot(train_auc, label='train_auc', color='green')\n",
    "ax2.plot(test_auc, label='validation_auc', color='green', linestyle='--')\n",
    "ax2.legend(loc=1)\n",
    "ax2.set_ylabel('AUC')\n",
    "ax2.set_xlabel(\"Epoch\")\n",
    "ax2.title.set_text('AUC vs epoch for the training set and test(validation) set')\n",
    "# add spaces between the sub plots\n",
    "plt.tight_layout()\n",
    "plt.show()\n",
    "\n",
    "# compute accurcay for ptinting\n",
    "# apply the net with the test data\n",
    "y_hat_test = net_34_lr(x_test_t)\n",
    "# convert lables to 0 and 1\n",
    "y_hat_test_class = np.where(y_hat_test.data.numpy() < 0.5, 0, 1)\n",
    "# compute accuracy \n",
    "test_accuracy = np.sum(y_hat_test_class == y_test_t.data.numpy()) / len(y_hat_test_class)\n",
    "\n",
    "# print measures\n",
    "print('Train AUC: %.3f, Validation AUC: %.3f' % (train_auc[-1], test_auc[-1]))\n",
    "print('Train Accuracy: %.3f %s' % (train_accuracy[-1] * 100, '%'))\n",
    "print('Validation Accuracy: %.3f %s' % (test_accuracy * 100, '%'))"
   ]
  },
  {
   "cell_type": "markdown",
   "metadata": {},
   "source": [
    "<b> explanation: </b><br>\n",
    "As can be seen above, the training loss decreases as long as the number of Epochs increases. In addition, the AUC for the train data increases with the number of Epochs while the AUC of the validation data stops increasing from some point and therefore we chose 50 Epochs for the training stage. <br>\n",
    "The test AUC and accuracy are similar for both torch and sklearn regressions. The train AUC and accuracy is a bit higher on the sklearn regression. We assume that this happened because we chose 100 Epochs for the tensor network in order to prevent overfitting. <br>\n",
    "If we compare the net34 results to the net18, we got better results in the net34 on sklearn on all the metrics. On pytorch we got better results on all the metrics besides the validation AUC with net18 but the validation AUC is better with net34."
   ]
  },
  {
   "cell_type": "markdown",
   "metadata": {},
   "source": [
    "**Here you should merge the feature extractor network layers with the PyTorch logistic regression classifier.**"
   ]
  },
  {
   "cell_type": "code",
   "execution_count": 20,
   "metadata": {},
   "outputs": [],
   "source": [
    "# merge the logistic regression (we did with pytorch) with the network\n",
    "model_resnet_34.fc = net_34_lr"
   ]
  },
  {
   "cell_type": "markdown",
   "metadata": {},
   "source": [
    "# Part 2- Fine-tuning"
   ]
  },
  {
   "cell_type": "markdown",
   "metadata": {},
   "source": [
    "In the feature extraction experiment above you were training the classifier on the top of the pre-trained model. \n",
    "In this paert, you need to train (or \"fine-tune\") the original pre-trained Resnet18 model (or part of them) in an attempts to improve your results. You can determine the number of convolution layers you intend to re-train in order to avoid overfitting and hopefully achive better generalization. Note that the fine-tuning should only be attempted after you have trained the top-level classifier with a pre-trained model.\n",
    "\n",
    "1. Plot Loss and Accuracy v.s Epoch for train and validation sets:"
   ]
  },
  {
   "cell_type": "markdown",
   "metadata": {},
   "source": [
    "#### Define the model (use the merged feature extractor with the PyTorch logistic regression classifier)"
   ]
  },
  {
   "cell_type": "code",
   "execution_count": 24,
   "metadata": {},
   "outputs": [
    {
     "data": {
      "text/plain": [
       "Sequential(\n",
       "  (0): Linear(in_features=512, out_features=1, bias=True)\n",
       "  (1): Sigmoid()\n",
       ")"
      ]
     },
     "execution_count": 24,
     "metadata": {},
     "output_type": "execute_result"
    }
   ],
   "source": [
    "# make a copy for the network we need\n",
    "net_18_copy = copy.deepcopy(net_18_lr)\n",
    "net_18_copy"
   ]
  },
  {
   "cell_type": "code",
   "execution_count": 25,
   "metadata": {},
   "outputs": [],
   "source": [
    "# load resnet18 network\n",
    "model_ft_resnet18 = models.resnet18(pretrained=True)\n",
    "# merge the logistic regression (we did with pytorch) with the network\n",
    "model_ft_resnet18.fc = net_18_copy"
   ]
  },
  {
   "cell_type": "code",
   "execution_count": 26,
   "metadata": {},
   "outputs": [],
   "source": [
    "# for all the parameters define the gradients as not needing to be computed\n",
    "for param in model_ft_resnet18.parameters():\n",
    "    param.requires_grad = False"
   ]
  },
  {
   "cell_type": "code",
   "execution_count": 27,
   "metadata": {},
   "outputs": [],
   "source": [
    "# unfreeze the weights o fthe 3 last layres and for them define the parameters's gradients as needing to be computed\n",
    "for block in list(model_ft_resnet18.children())[-3:]:\n",
    "    for name,param in block.named_parameters():\n",
    "        param.requires_grad = True"
   ]
  },
  {
   "cell_type": "code",
   "execution_count": 28,
   "metadata": {},
   "outputs": [],
   "source": [
    "# define DataLoader for each set (train/test)\n",
    "train_loader = torch.utils.data.DataLoader(train, batch_size=32, shuffle=1)\n",
    "test_loader = torch.utils.data.DataLoader(test, batch_size=32, shuffle=1)"
   ]
  },
  {
   "cell_type": "markdown",
   "metadata": {},
   "source": [
    "#### Training and validation:"
   ]
  },
  {
   "cell_type": "code",
   "execution_count": 29,
   "metadata": {},
   "outputs": [],
   "source": [
    "# define the loss function (binary cross entropy for logistic), learning rate and the optimizer\n",
    "criterion = nn.BCELoss()\n",
    "learning_rate = 1e-4\n",
    "optimizer = torch.optim.Adam(model_ft_resnet18.parameters(), lr=learning_rate)"
   ]
  },
  {
   "cell_type": "code",
   "execution_count": 30,
   "metadata": {},
   "outputs": [],
   "source": [
    "# the training function- get a model and dataloader and return the loss and accuracy for training\n",
    "def fit(model, train_dataloader):\n",
    "    # define that we are on train\n",
    "    model.train()\n",
    "    # initialize the loss and number of correct predicts for trainig\n",
    "    train_total_loss = 0.0\n",
    "    train_total_correct = 0\n",
    "    # for each data in this loop\n",
    "    for i, data in enumerate(train_dataloader):\n",
    "        # divide the data to features and labels\n",
    "        data, target = data[0], data[1]\n",
    "        # resetting the gradinates\n",
    "        optimizer.zero_grad()\n",
    "        # get the output of the model with the data\n",
    "        output = model(data)\n",
    "        # compute the loss value with the predicted values of train with the true labels \n",
    "        loss = criterion(output, target.float().reshape(-1,1))\n",
    "        # add the value to the total loss \n",
    "        train_total_loss += loss.item()\n",
    "        # convert predictions to 0 or 1\n",
    "        preds = np.where(output.detach().numpy() < 0.5, 0, 1)\n",
    "        # sum the number of times that we correct and add this to the total times\n",
    "        train_total_correct += (torch.tensor(preds) == target.reshape(-1,1)).sum().item()\n",
    "        # apply the backward with the loss we got\n",
    "        loss.backward()\n",
    "        # apply step for the updates\n",
    "        optimizer.step()\n",
    "    # compute the avarage loss\n",
    "    train_loss = train_total_loss/len(train_dataloader.dataset)\n",
    "    # compute the avarage time we got correct predictions\n",
    "    train_accuracy = 100. * train_total_correct/len(train_dataloader.dataset)\n",
    "    # print the measures\n",
    "    print(f'Train Loss: {train_loss:.4f}, Train Acc: {train_accuracy:.2f}')\n",
    "    \n",
    "    return train_loss, train_accuracy"
   ]
  },
  {
   "cell_type": "code",
   "execution_count": 31,
   "metadata": {},
   "outputs": [],
   "source": [
    "# the validation function\n",
    "def validate(model, test_dataloader):\n",
    "    # define that we are on evaluate\n",
    "    model.eval()\n",
    "    # initialize the loss and number of correct predicts for validation\n",
    "    validation_total_loss = 0.0\n",
    "    validation_total_correct = 0\n",
    "    # for each data in this loop\n",
    "    for int, data in enumerate(test_dataloader):\n",
    "        # divide the data to features and labels\n",
    "        data, target = data[0], data[1]\n",
    "        # get the output of the model with the data\n",
    "        output = model(data)\n",
    "        # compute the loss value with the predicted values of validation with the true labels \n",
    "        loss = criterion(output, target.float().reshape(-1,1))\n",
    "        # add the value to the total loss \n",
    "        validation_total_loss += loss.item()\n",
    "        # convert predictions to 0 or 1\n",
    "        preds = np.where(output.detach().numpy() < 0.5, 0, 1)\n",
    "        # sum the number of times that we correct and add this to the total times\n",
    "        validation_total_correct += (torch.tensor(preds) == target.reshape(-1,1)).sum().item()\n",
    "    # compute the avarage loss\n",
    "    validation_loss = validation_total_loss/len(test_dataloader.dataset)\n",
    "    # compute the avarage time we got correct predictions\n",
    "    validation_accuracy = 100. * validation_total_correct/len(test_dataloader.dataset)\n",
    "    # print the measures\n",
    "    print(f'Validation Loss: {validation_loss:.4f}, Validation Acc: {validation_accuracy:.2f}')\n",
    "\n",
    "    return validation_loss, validation_accuracy"
   ]
  },
  {
   "cell_type": "code",
   "execution_count": 32,
   "metadata": {},
   "outputs": [
    {
     "name": "stdout",
     "output_type": "stream",
     "text": [
      "Train Loss: 0.0176, Train Acc: 79.19\n",
      "Validation Loss: 0.0155, Validation Acc: 84.00\n",
      "Train Loss: 0.0026, Train Acc: 96.94\n",
      "Validation Loss: 0.0161, Validation Acc: 84.40\n",
      "Train Loss: 0.0009, Train Acc: 99.38\n",
      "Validation Loss: 0.0172, Validation Acc: 84.20\n",
      "Train Loss: 0.0003, Train Acc: 99.88\n",
      "Validation Loss: 0.0180, Validation Acc: 84.00\n",
      "Train Loss: 0.0003, Train Acc: 99.94\n",
      "Validation Loss: 0.0189, Validation Acc: 85.20\n",
      "Train Loss: 0.0002, Train Acc: 99.94\n",
      "Validation Loss: 0.0204, Validation Acc: 84.80\n",
      "Train Loss: 0.0001, Train Acc: 100.00\n",
      "Validation Loss: 0.0207, Validation Acc: 84.00\n",
      "Train Loss: 0.0001, Train Acc: 100.00\n",
      "Validation Loss: 0.0205, Validation Acc: 85.00\n",
      "Train Loss: 0.0002, Train Acc: 99.81\n",
      "Validation Loss: 0.0214, Validation Acc: 84.20\n",
      "Train Loss: 0.0001, Train Acc: 99.94\n",
      "Validation Loss: 0.0227, Validation Acc: 84.20\n",
      "Train Loss: 0.0001, Train Acc: 99.94\n",
      "Validation Loss: 0.0228, Validation Acc: 84.20\n",
      "Train Loss: 0.0001, Train Acc: 100.00\n",
      "Validation Loss: 0.0224, Validation Acc: 83.80\n",
      "Train Loss: 0.0000, Train Acc: 100.00\n",
      "Validation Loss: 0.0223, Validation Acc: 84.20\n",
      "Train Loss: 0.0002, Train Acc: 99.88\n",
      "Validation Loss: 0.0228, Validation Acc: 82.20\n",
      "Train Loss: 0.0001, Train Acc: 100.00\n",
      "Validation Loss: 0.0248, Validation Acc: 82.20\n",
      "10.819366482893626 minutes\n"
     ]
    }
   ],
   "source": [
    "# create lists for loss and accuracy that will save the parameters from the different iterations for the plots\n",
    "train_loss = [] \n",
    "train_accuracy = []\n",
    "validation_loss = []\n",
    "validation_accuracy = []\n",
    "# get the start time (when we start)\n",
    "start = time.time()\n",
    "# for each epoch\n",
    "for epoch in range(15):\n",
    "    # fit the model and get the loss and accuracy for the train in this epoch\n",
    "    train_epoch_loss, train_epoch_accuracy = fit(model_ft_resnet18, train_loader)\n",
    "    # validate the model and get the loss and accuracy for the validation in this epoch\n",
    "    validation_epoch_loss, validation_epoch_accuracy = validate(model_ft_resnet18, test_loader)\n",
    "    # apeend all the values to the correct list\n",
    "    train_loss.append(train_epoch_loss)\n",
    "    train_accuracy.append(train_epoch_accuracy)\n",
    "    validation_loss.append(validation_epoch_loss)\n",
    "    validation_accuracy.append(validation_epoch_accuracy)\n",
    "# get the end time (when we end)\n",
    "end = time.time()\n",
    "# print how much time it's take\n",
    "print((end-start)/60, 'minutes')"
   ]
  },
  {
   "cell_type": "markdown",
   "metadata": {},
   "source": [
    "#### Visualizing the plots:"
   ]
  },
  {
   "cell_type": "code",
   "execution_count": 33,
   "metadata": {},
   "outputs": [
    {
     "data": {
      "image/png": "[encoded data removed]",
      "text/plain": [
       "<Figure size 720x504 with 1 Axes>"
      ]
     },
     "metadata": {
      "needs_background": "light"
     },
     "output_type": "display_data"
    }
   ],
   "source": [
    "# create train and validation accuracy plots for each epoch and add lables and title\n",
    "# create figure\n",
    "plt.figure(figsize=(10, 7))\n",
    "# plot\n",
    "plt.plot(train_accuracy, color='blue', label='train accuracy')\n",
    "plt.plot(validation_accuracy, color='red', label='validataion accuracy')\n",
    "# add titles and labels\n",
    "plt.title('accuracy vs. epoch for train and validation sets')\n",
    "plt.xlabel('epoch')\n",
    "plt.ylabel('accuracy')\n",
    "# add legend\n",
    "plt.legend()\n",
    "plt.show()"
   ]
  },
  {
   "cell_type": "code",
   "execution_count": 34,
   "metadata": {
    "scrolled": false
   },
   "outputs": [
    {
     "data": {
      "image/png": "[encoded data removed]",
      "text/plain": [
       "<Figure size 720x504 with 1 Axes>"
      ]
     },
     "metadata": {
      "needs_background": "light"
     },
     "output_type": "display_data"
    }
   ],
   "source": [
    "# create train and validation loss plots for each epoch and add lables and title\n",
    "# create figure\n",
    "plt.figure(figsize=(10, 7))\n",
    "# plot\n",
    "plt.plot(train_loss, color='blue', label='train loss')\n",
    "plt.plot(validation_loss, color='red', label='validataion loss')\n",
    "# add titles and labels\n",
    "plt.title('loss vs. epoch for train and validation sets')\n",
    "plt.xlabel('epoch')\n",
    "plt.ylabel('loss')\n",
    "# add legend\n",
    "plt.legend()\n",
    "plt.show()"
   ]
  },
  {
   "cell_type": "markdown",
   "metadata": {},
   "source": [
    "2. Compare your results between the two approaches. Is there any improvement? Explain your findings...\n"
   ]
  },
  {
   "cell_type": "markdown",
   "metadata": {},
   "source": [
    "Fine-tuning results:\n",
    "Train Acc: 100\n",
    "Validation Acc: 82.2\n",
    "\n",
    "Net18  Feature Extractor results: \n",
    "Train Accuracy: 90.750 %\n",
    "Validation Accuracy: 84.800 %\n",
    "\n",
    "We can see that on the fine tuning, there is a 17.8% difference between the train and validation accuracy. We can infer that there is an overfitting. \n",
    "In the fine tuning stage, we used the trained network from the Feature extractor stage and re-train the last 3 layers. \n",
    "As can be seen, the train accuracy increased to 100%. The validation accuracy descreased.\n",
    "These facts indicate overfitting. \n",
    "\n",
    "Therefore, we would use the feature extractor stage and wouldn't continue to the fine-tuning stage."
   ]
  }
 ],
 "metadata": {
  "kernelspec": {
   "display_name": "Python 3",
   "language": "python",
   "name": "python3"
  },
  "language_info": {
   "codemirror_mode": {
    "name": "ipython",
    "version": 3
   },
   "file_extension": ".py",
   "mimetype": "text/x-python",
   "name": "python",
   "nbconvert_exporter": "python",
   "pygments_lexer": "ipython3",
   "version": "3.8.5"
  }
 },
 "nbformat": 4,
 "nbformat_minor": 4
}
