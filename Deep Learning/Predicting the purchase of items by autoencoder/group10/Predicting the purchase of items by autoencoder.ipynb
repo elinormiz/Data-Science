{
 "cells": [
  {
   "cell_type": "markdown",
   "metadata": {},
   "source": [
    "# Assignment 3"
   ]
  },
  {
   "cell_type": "markdown",
   "metadata": {},
   "source": [
    "### imports"
   ]
  },
  {
   "cell_type": "code",
   "execution_count": 1,
   "metadata": {},
   "outputs": [],
   "source": [
    "# import packages\n",
    "import pandas as pd\n",
    "from scipy.sparse import csr_matrix\n",
    "import numpy as np\n",
    "import attr\n",
    "import random\n",
    "import torch\n",
    "from torch import nn\n",
    "from torch import optim\n",
    "from torch.utils.data import DataLoader, Dataset\n",
    "from sklearn.metrics import mean_absolute_error\n",
    "import matplotlib.pyplot as plt\n",
    "import warnings\n",
    "warnings.filterwarnings(\"ignore\")"
   ]
  },
  {
   "cell_type": "markdown",
   "metadata": {},
   "source": [
    "### load the data"
   ]
  },
  {
   "cell_type": "code",
   "execution_count": 2,
   "metadata": {},
   "outputs": [],
   "source": [
    "# define the paths for the files\n",
    "TRAIN_PATH = 'Train.csv'\n",
    "POP_TEST_PATH = 'PopularityTest.csv'\n",
    "RAND_TEST_PATH = 'RandomTest.csv'\n",
    "\n",
    "# read the csv files\n",
    "train = pd.read_csv(TRAIN_PATH)\n",
    "test_pop = pd.read_csv(POP_TEST_PATH)\n",
    "test_rand = pd.read_csv(RAND_TEST_PATH)"
   ]
  },
  {
   "cell_type": "markdown",
   "metadata": {},
   "source": [
    "### explore the data"
   ]
  },
  {
   "cell_type": "code",
   "execution_count": 3,
   "metadata": {},
   "outputs": [],
   "source": [
    "# get the unique items for each file\n",
    "train_unique_items = train['ItemID'].unique()\n",
    "test_pop_unique_items = set(list(test_pop['Item1'].unique()) + list(test_pop['Item2'].unique()))\n",
    "test_rand_unique_items = set(list(test_rand['Item1'].unique()) + list(test_rand['Item2'].unique()))\n",
    "\n",
    "# get the unique users for each file\n",
    "train_unique_users = train['UserID'].unique()\n",
    "test_pop_unique_users = test_pop['UserID'].unique()\n",
    "test_rand_unique_users = test_rand['UserID'].unique()"
   ]
  },
  {
   "cell_type": "code",
   "execution_count": 4,
   "metadata": {},
   "outputs": [
    {
     "name": "stdout",
     "output_type": "stream",
     "text": [
      "Items:\n",
      "in the train data there are 3705 items\n",
      "in the train data the min Id for items is 1\n",
      "in the train data the max Id for items is 3706\n",
      "in the popularity test data there are 2356 items\n",
      "in the random test data there are 3321 items\n",
      "\n",
      "Users:\n",
      "in the train data there are 6040 users\n",
      "in the train data the min Id for users is 1\n",
      "in the train data the max Id for users is 6040\n",
      "in the popularity test data there are 6040 users\n",
      "in the random test data there are 6040 users\n",
      "\n",
      "popolarity test:\n",
      "items {1750} exists in the test but not in the train\n",
      "users set() exists in the test but not in the train-> there is no such users\n",
      "random test:\n",
      "items {1750} exists in the test but not in the train\n",
      "users set() exists in the test but not in the train-> there is no such users\n"
     ]
    }
   ],
   "source": [
    "# print some information on the data\n",
    "print ('Items:')\n",
    "print ('in the train data there are', len(train_unique_items), 'items')\n",
    "print ('in the train data the min Id for items is',train_unique_items.min())\n",
    "print ('in the train data the max Id for items is',train_unique_items.max())\n",
    "print ('in the popularity test data there are', len(test_pop_unique_items), 'items')\n",
    "print ('in the random test data there are', len(test_rand_unique_items), 'items\\n')\n",
    "\n",
    "print ('Users:')\n",
    "print ('in the train data there are', len(train_unique_users), 'users')\n",
    "print ('in the train data the min Id for users is',train_unique_users.min())\n",
    "print ('in the train data the max Id for users is',train_unique_users.max())\n",
    "print ('in the popularity test data there are', len(test_pop_unique_users), 'users')\n",
    "print ('in the random test data there are', len(test_rand_unique_users), 'users\\n')\n",
    "\n",
    "# check items that exist in the test but not in the train\n",
    "items_only_pop = set(test_pop_unique_items).difference(set(train_unique_items))\n",
    "items_only_rand = set(test_rand_unique_items).difference(set(train_unique_items))\n",
    "\n",
    "# check users that exist in the test but not in the train\n",
    "users_only_pop = set(test_pop_unique_users).difference(set(train_unique_users))\n",
    "users_only_rand = set(test_rand_unique_users).difference(set(train_unique_users))\n",
    "\n",
    "print ('popolarity test:')\n",
    "print ('items', items_only_pop, 'exists in the test but not in the train')\n",
    "print ('users', users_only_pop, 'exists in the test but not in the train-> there is no such users')\n",
    "print ('random test:')\n",
    "print ('items', items_only_rand, 'exists in the test but not in the train')\n",
    "print ('users', users_only_rand, 'exists in the test but not in the train-> there is no such users')"
   ]
  },
  {
   "cell_type": "markdown",
   "metadata": {},
   "source": [
    "### Preprocessing for the data"
   ]
  },
  {
   "cell_type": "markdown",
   "metadata": {},
   "source": [
    "<b> 1. convert all the ids (users+items) start from 0 and not from 1"
   ]
  },
  {
   "cell_type": "code",
   "execution_count": 5,
   "metadata": {},
   "outputs": [],
   "source": [
    "train_copy = train.copy()\n",
    "train_copy['ItemID'] -= 1\n",
    "train_copy['UserID'] -= 1\n",
    "# add rank 1 for all the rows- thw user consumed this item\n",
    "train_copy['rank'] = 1"
   ]
  },
  {
   "cell_type": "markdown",
   "metadata": {},
   "source": [
    "<b> 2. create matrix with users&items in the rows&columns and rank in the matrix"
   ]
  },
  {
   "cell_type": "code",
   "execution_count": 6,
   "metadata": {},
   "outputs": [],
   "source": [
    "# the function get the train data and convert it to matrix of users and items in rows and columns and ranks in the matrix.\n",
    "# the dunction return the matrix\n",
    "def matrix_user_item(train):\n",
    "    # make a copt of the train data and add rank column with 1\n",
    "    train_copy = train.copy()\n",
    "    train_copy['rank'] = 1\n",
    "    # create matrix with columns&rows of users&items and the values in the matrix are the ranks(1 if user consumed item and 0 else)\n",
    "    matrix_users_items = csr_matrix((train_copy['rank'], (train_copy['UserID'], train_copy['ItemID']))).toarray()\n",
    "    \n",
    "    return matrix_users_items.astype(np.float32)"
   ]
  },
  {
   "cell_type": "code",
   "execution_count": 7,
   "metadata": {},
   "outputs": [],
   "source": [
    "# call the function from above to create the matrix\n",
    "train_user_item_matrix = matrix_user_item(train_copy)"
   ]
  },
  {
   "cell_type": "markdown",
   "metadata": {},
   "source": [
    "<b> 3. create dictionary for the negative items probabilities per user"
   ]
  },
  {
   "cell_type": "code",
   "execution_count": 8,
   "metadata": {},
   "outputs": [],
   "source": [
    "# the function get the train data and calculate the probability by populraity and uniform for each user depending on items not consumed \n",
    "# the function return dict with the user as key and 2 array probabilities for each condition and the number of items in value\n",
    "# in addition return the probabilities of items\n",
    "def create_dict_negative_items_per_user(train):\n",
    "    # initilaize array with probabilities for each items with zeros (probability to choose this items)\n",
    "    probabilities = np.zeros(train['ItemID'].max()+1)\n",
    "    # for each item get the probability for choosing it\n",
    "    probabilities_items = pd.DataFrame(train['ItemID'].value_counts(normalize=True).sort_index())\n",
    "    # insert probabilities in their places in probabilities array\n",
    "    for i in list(probabilities_items.index):\n",
    "        probabilities[i] = probabilities_items.loc[i,].values[0]\n",
    "    \n",
    "    # initilaize dictionary for user and his negative items\n",
    "    negative_items_per_user = {}\n",
    "    # for each user\n",
    "    for user in range(train['UserID'].max()+1):\n",
    "        # initialize the probabilites for this user\n",
    "        user_prob =  probabilities.copy()\n",
    "        # get the items that the user consumed\n",
    "        user_items = train[train['UserID']==user]['ItemID'].unique()\n",
    "        # all the items that the user consumed set the probability to 0\n",
    "        for item in range(len(user_items)):\n",
    "            # get the index of item\n",
    "            item_index = user_items[item]\n",
    "            # set the value in this index to 0\n",
    "            user_prob[item_index] = 0\n",
    "            \n",
    "        # normalize the popularity probabilities\n",
    "        user_pop_probabilities = user_prob/sum(user_prob)\n",
    "        # transform the popularity probabilities to uniform (random) probabilities\n",
    "        user_rand_probabilities = np.nan_to_num(user_pop_probabilities/user_pop_probabilities)\n",
    "        user_rand_probabilities = user_rand_probabilities/sum(user_rand_probabilities)\n",
    "        # add user to dictionary: key=user, value=[probabilities by popularity, probabilities by random, number of items for this user]\n",
    "        negative_items_per_user[user] = [user_pop_probabilities, user_rand_probabilities, len(user_items)] \n",
    "    \n",
    "    return negative_items_per_user, probabilities"
   ]
  },
  {
   "cell_type": "code",
   "execution_count": 9,
   "metadata": {},
   "outputs": [],
   "source": [
    "# call the function from above to create the dictionary\n",
    "negative_items_per_user, probabilities = create_dict_negative_items_per_user(train_copy)"
   ]
  },
  {
   "cell_type": "markdown",
   "metadata": {},
   "source": [
    "### functions for running the models"
   ]
  },
  {
   "cell_type": "markdown",
   "metadata": {},
   "source": [
    "<b> 1. define parameters"
   ]
  },
  {
   "cell_type": "code",
   "execution_count": 10,
   "metadata": {},
   "outputs": [],
   "source": [
    "@attr.s\n",
    "class model_param():\n",
    "    # parameters for spliting to train+vaildation   \n",
    "    num_items = train['ItemID'].unique().max()\n",
    "    val_quant = 0.2\n",
    "    test_type = 'random' # random or popularity\n",
    "    ###negatives = None     # dictionary\n",
    "\n",
    "    # parameters for the NN architecture\n",
    "    in_features = None\n",
    "    num_net_channels = [2500, 500, 50]\n",
    "    early_stopping = True\n",
    "    early_stopping_num_epochs = 7\n",
    "    early_stopping_min_improvement = 0\n",
    "    \n",
    "    # parameters for NN training\n",
    "    tr_batch_size = 256\n",
    "    ###val_test_batch_size = None\n",
    "    \n",
    "    num_epochs = 50\n",
    "    lr = 1e-3\n",
    "    lr_step_decay = 1\n",
    "    weight_decay = 1e-4\n",
    "    \n",
    "    criterion_func = nn.BCELoss\n",
    "    weight_to_one = 0\n",
    "    optimizer_func = optim.Adam\n",
    "    metric = 'recon_mae'\n",
    "    val_metric = 'accuracy'"
   ]
  },
  {
   "cell_type": "markdown",
   "metadata": {},
   "source": [
    "<b> 2. split to train+validation"
   ]
  },
  {
   "cell_type": "code",
   "execution_count": 11,
   "metadata": {},
   "outputs": [],
   "source": [
    "# the function get the matrix of users&items, spliting the data into train&validation and return train, validation, users\n",
    "# for validation, dictionary for train and validation of the new ids for users\n",
    "def split_train_validation_per_user(train_matrix, val_ratio=0.2):\n",
    "    # sample users for the validation set (spliting train+validation) according to the val_ratio\n",
    "    validation_users = random.sample(range(len(train_matrix)), round(val_ratio*len(train_matrix)))\n",
    "    # sort the list we got\n",
    "    validation_users = sorted(validation_users)\n",
    "    # get the users that rest for the train (all the users that are not in the validation)\n",
    "    train_users = [i for i in range(len(train_matrix)) if i not in validation_users]\n",
    "    \n",
    "    # split the train matrix to train+validation by the users we got above for each set\n",
    "    train = train_matrix[train_users]\n",
    "    validation =  train_matrix[validation_users]\n",
    "\n",
    "    return train, validation, validation_users"
   ]
  },
  {
   "cell_type": "markdown",
   "metadata": {},
   "source": [
    "<b> 3. arrange validation set into validation_train and validation test to convert to a regular structure for training </b>\n",
    "for each user we remove 1 item example so all the rest will be in the validation_train and the 1 rest example will be the positive example (the item that the user consumed) in the validation_test). then we sample 1 negative sample for the validation_test according to the condition (popularity or random) and then we get validation with 1 row for each user with 2 items: 1 consumed and the other didn't."
   ]
  },
  {
   "cell_type": "code",
   "execution_count": 12,
   "metadata": {},
   "outputs": [],
   "source": [
    "def get_correct_validation_set(validation_matrix, validation_users_indexes, dict_negative_items_per_user, prob):\n",
    "    # get a copy of vaildation matrix\n",
    "    train_valid_matrix = validation_matrix.copy()\n",
    "    # create a dict for the positive examples\n",
    "    users_positive_dict = {}\n",
    "    \n",
    "    for new_index, values in enumerate(train_valid_matrix):\n",
    "        # get 1 positive example for each user by random choice where the value is 1\n",
    "        positive_item = np.random.choice(np.where(train_valid_matrix[new_index] == 1)[0], size=1)[0]\n",
    "        # update the dictionary: key= index for user & value = the positive item\n",
    "        users_positive_dict[new_index] = positive_item\n",
    "        # update the matrix to be with 0 for this user & item because it will be in the validation \n",
    "        train_valid_matrix[new_index][positive_item]= 0 \n",
    "    \n",
    "    # create a dict for the negative examples\n",
    "    users_negative_dict = {}\n",
    "    # list fot the updates of probabilities\n",
    "    val_users_items_dict = []\n",
    "    for new_index, old_index in enumerate(validation_users_indexes):\n",
    "        # if the condition is random (uniform)\n",
    "        if args.test_type.lower() == 'random':\n",
    "            # get 1 negative example for each user by random choice with the probabilities we caclulate before for this user\n",
    "            negative_item = np.random.choice(np.arange(args.num_items), 1, p=dict_negative_items_per_user[old_index][1])\n",
    "            # crate new propability for validation user's items because we made changes \n",
    "            user_items = train_valid_matrix[new_index]\n",
    "            user_prop = (1-user_items)\n",
    "            user_prob_pop = user_prop/sum(user_prop)\n",
    "            val_users_items_dict.append(np.array(user_prob_pop).tolist())\n",
    "            \n",
    "        # if the condition is popularity\n",
    "        else:\n",
    "            # get 1 negative example for each user by random choice with the probabilities we caclulate before for this user\n",
    "            negative_item = np.random.choice(np.arange(args.num_items), 1, p=dict_negative_items_per_user[old_index][0])\n",
    "            # crate new propability for validation user's items because we made changes \n",
    "            user_items = train_valid_matrix[new_index]\n",
    "            user_prop = prob.copy()\n",
    "            user_prop = (1-user_items)*user_prop\n",
    "            user_prob_pop = user_prop/sum(user_prop)\n",
    "            val_users_items_dict.append(np.array(user_prob_pop).tolist())\n",
    "            \n",
    "        # update the dictionary: key= index for user & value = the negative item\n",
    "        users_negative_dict[new_index]=negative_item[0]\n",
    "\n",
    "    # create df for the validation test\n",
    "    df = pd.DataFrame(range(len(users_positive_dict)), columns=['val_UserID'])\n",
    "    df['Item1'] = pd.DataFrame.from_dict(users_positive_dict, orient='index')\n",
    "    df['Item2']  = pd.DataFrame.from_dict(users_negative_dict, orient='index')\n",
    "    df['item_prop']= val_users_items_dict\n",
    "    \n",
    "    return train_valid_matrix, df"
   ]
  },
  {
   "cell_type": "markdown",
   "metadata": {},
   "source": [
    "<b> 4. Data Loader"
   ]
  },
  {
   "cell_type": "code",
   "execution_count": 13,
   "metadata": {},
   "outputs": [],
   "source": [
    "# the function of dataloader for the validation set\n",
    "class ValidationDataset(Dataset):\n",
    "    def __init__(self,user_item_matrix, data):       \n",
    "        # define the matrix of user-item, users_id, items (1 & 2) and item probabilities and convert to torch\n",
    "        X = user_item_matrix.copy()\n",
    "        self.user_item = torch.Tensor(X)\n",
    "        self.user_id = torch.Tensor(range(len(X))).to(torch.int)\n",
    "        self.item1 = torch.Tensor(data['Item1'].values).to(torch.int)\n",
    "        self.item2 = torch.Tensor(data['Item2'].values).to(torch.int)\n",
    "        self.item_prob = torch.Tensor(data['item_prop']).to(torch.float64)\n",
    "    \n",
    "    def __getitem__(self, ind):\n",
    "        # get a specific row with all the information\n",
    "        user = self.user_id[ind]\n",
    "        user_vec = self.user_item[ind,:]\n",
    "        item1 = self.item1[ind]\n",
    "        item2 = self.item2[ind]\n",
    "        item_prob = self.item_prob[ind,:]\n",
    "        return user_vec, user, item1, item2, item_prob\n",
    "    \n",
    "    def __len__(self):\n",
    "        # calculate the length\n",
    "        return self.user_item.shape[0]"
   ]
  },
  {
   "cell_type": "code",
   "execution_count": 14,
   "metadata": {},
   "outputs": [],
   "source": [
    "# the function of dataloader for the train set\n",
    "class TrainDataset(Dataset):\n",
    "    def __init__(self,user_item_matrix):       \n",
    "        # define the matrix of user-item and convert to torch\n",
    "        X = user_item_matrix.copy()\n",
    "        self.user_item = torch.Tensor(X)\n",
    "    \n",
    "    def __getitem__(self, ind):\n",
    "        # get a specific row\n",
    "        user_vec = self.user_item[ind,:]\n",
    "        return user_vec\n",
    "    \n",
    "    def __len__(self):\n",
    "        # calculate the length\n",
    "        return self.user_item.shape[0]"
   ]
  },
  {
   "cell_type": "markdown",
   "metadata": {},
   "source": [
    "<b> 5. create the autoenconder"
   ]
  },
  {
   "cell_type": "code",
   "execution_count": 15,
   "metadata": {},
   "outputs": [],
   "source": [
    "# create the class for the auto enconder network\n",
    "class AutoEncoder(nn.Module):\n",
    "    def __init__(self, in_features, num_features):\n",
    "        super(AutoEncoder, self).__init__()\n",
    "        # create the encoder\n",
    "        # start with linear layer\n",
    "        encoder_layers = [nn.Linear(in_features, num_features[0])]\n",
    "        # for each hidden layer append relu (activation func) and another linear layer\n",
    "        for i in range(1, len(num_features)):\n",
    "            encoder_layers.append(nn.ReLU())\n",
    "            encoder_layers.append(nn.Linear(num_features[i-1], num_features[i]))\n",
    "        # finally add another relu\n",
    "        encoder_layers += [nn.ReLU()]\n",
    "        \n",
    "        # create the decoder\n",
    "        decoder_layers = []\n",
    "        # for each hidden layer append linear layer and then relu function\n",
    "        for j in range(len(num_features)-1):\n",
    "            decoder_layers.append(nn.Linear(num_features[-j-1], num_features[-j-2]))\n",
    "            decoder_layers.append(nn.ReLU())\n",
    "        # at the end append another linear layer and finally sigmoid function\n",
    "        decoder_layers += [nn.Linear(num_features[0],in_features)]\n",
    "        decoder_layers.append(nn.Sigmoid())\n",
    "        \n",
    "        # define the enconder and decoder with all the lists with layers and functions\n",
    "        self.encoder = nn.Sequential(*encoder_layers)\n",
    "        self.decoder = nn.Sequential(*decoder_layers)\n",
    "        \n",
    "        # print the network we got\n",
    "        print(self.modules)\n",
    "    \n",
    "    # the forward level\n",
    "    def forward(self, x):\n",
    "        # apply the encoder and decoder on the input and return the output\n",
    "        encoding = self.encoder(x)\n",
    "        reconstruction = self.decoder(encoding)\n",
    "        return reconstruction"
   ]
  },
  {
   "cell_type": "markdown",
   "metadata": {},
   "source": [
    "<b> 6. Training"
   ]
  },
  {
   "cell_type": "code",
   "execution_count": 16,
   "metadata": {},
   "outputs": [],
   "source": [
    "# the function compute the mean absolute error with the input and the output and return it\n",
    "def get_recon_mae(x_input,x_recon):\n",
    "    x = x_input.flatten().detach().numpy()\n",
    "    recon = x_recon.flatten().detach().numpy()\n",
    "    return mean_absolute_error(x, recon)\n",
    "\n",
    "# the function compute the accuracy with the classification and return it\n",
    "def get_val_label_accuracy(bitcalssification):\n",
    "    # the true label is always 0 in validation \n",
    "    return np.array(bitcalssification == 0).sum()/len(bitcalssification) "
   ]
  },
  {
   "cell_type": "code",
   "execution_count": 17,
   "metadata": {},
   "outputs": [],
   "source": [
    "# the function get the output, 2 items, probabilities and make predictions for the tests files and return array with\n",
    "# the prediction (in true/false format)\n",
    "def predict_for_test_format(recon, item1, item2, item_prob, normalize=True):\n",
    "    # get array for probabilities\n",
    "    prob_1 = torch.gather(recon,1,item1.resize(item1.shape[0],1).long()) \n",
    "    prob_2 = torch.gather(recon,1,item2.resize(item2.shape[0],1).long())\n",
    "    # if we want to normalize\n",
    "    if normalize:\n",
    "        # we would like to weighted each probability by prob*(1-neg.prob)\n",
    "        prob_1_norm = torch.gather(item_prob,1,item1.resize(item1.shape[0],1).long())\n",
    "        prob_1 = prob_1.double()/prob_1_norm.double()\n",
    "        prob_2_norm = torch.gather(item_prob,1,item2.resize(item2.shape[0],1).long())\n",
    "        prob_2 = prob_2.double()/prob_2_norm.double()\n",
    "    \n",
    "    # ‘0’ if you predict that the first item was the item that was liked by the user and ‘1’ if you predict that the second item was liked by the user.\n",
    "    # if prob_1>=prob_2 the bitClassification is 0 if prob_2>prob_1 the bitClassification is 1\n",
    "    return np.array(prob_2 > prob_1)"
   ]
  },
  {
   "cell_type": "code",
   "execution_count": 18,
   "metadata": {},
   "outputs": [],
   "source": [
    "# the function get the network, dataloader, loss, parameters and normzlization and make evaluation with the validation\n",
    "# the function calculate the loss, mean absolute error, predict the results and calculate the accuracy. Finally if return all metrics\n",
    "def infer(net, dataloader, criterion, normalization):\n",
    "    # convert to eval mode for evalusation\n",
    "    net.eval()\n",
    "    # initialize loss to 0 and list for the accuracy\n",
    "    running_loss = 0\n",
    "    running_metric = []  \n",
    "    # for the data we have\n",
    "    for user_vec, user, i1, i2, item_prob in dataloader:\n",
    "        with torch.no_grad():\n",
    "            # get the output of the network\n",
    "            recon = net(user_vec)\n",
    "            # calculate loss and mea\n",
    "            loss = criterion(recon, user_vec).item()\n",
    "            recon_metric = get_recon_mae(user_vec,recon)\n",
    "            # make predictions and calculate accuracy\n",
    "            bitClassification = predict_for_test_format(recon, i1, i2, item_prob, normalize=normalization)\n",
    "            metric = get_val_label_accuracy(bitClassification)\n",
    "        # update loss and acuuracy's list\n",
    "        running_loss += loss\n",
    "        running_metric.append(metric)\n",
    "    \n",
    "    return running_loss/ len(dataloader), np.array(recon_metric).mean(), np.array(running_metric).mean()"
   ]
  },
  {
   "cell_type": "code",
   "execution_count": 19,
   "metadata": {},
   "outputs": [],
   "source": [
    "# the function get the parameters, network, dataloader for train and validation and normalization.\n",
    "# the function apply the training with the evaluation on the data, in addition caculate some metrics\n",
    "# the function return all metrics for train and validation, the epoch it stops and the output of the network  \n",
    "def training_loop(\n",
    "    args,\n",
    "    net,\n",
    "    tr_dataloader,\n",
    "    val_dataloader=None,\n",
    "    normalization=True):\n",
    "    \n",
    "    # the loss function and leraning rate\n",
    "    criterion = args.criterion_func()\n",
    "    lr = args.lr\n",
    "    \n",
    "    # initialize all the varaibles for metrics\n",
    "    tr_loss, val_loss = [None] * args.num_epochs, [None] * args.num_epochs, \n",
    "    tr_recon_metric, val_recon_metric, val_metric = [None] * args.num_epochs, [None] * args.num_epochs, [None] * args.num_epochs\n",
    "\n",
    "    # for each epoch\n",
    "    for epoch in range(args.num_epochs):\n",
    "        # the optimizer we used - inside the loop to support lr decay\n",
    "        optimizer = args.optimizer_func(net.parameters(), lr=lr, weight_decay=args.weight_decay)\n",
    "        # define train mode for training\n",
    "        net.train()\n",
    "        # initilaize the loss and mae for training\n",
    "        running_tr_loss = 0\n",
    "        running_tr_metric = []\n",
    "\n",
    "        # for the data\n",
    "        for x in tr_dataloader:\n",
    "            # initialize gradient\n",
    "            optimizer.zero_grad()\n",
    "            \n",
    "            # apply the network\n",
    "            recon = net(x)\n",
    "            # if we want to use weights for the loss (for the epochs)\n",
    "            if args.weight_to_one >0:\n",
    "                # calculate the weights\n",
    "                w = (x.clone()-(1-args.weight_to_one)).abs()\n",
    "                # calculate the loss\n",
    "                loss = nn.BCELoss(w, size_average=False)(recon, x)\n",
    "            # if not just calculate the loss\n",
    "            else:\n",
    "                loss = criterion(recon, x)\n",
    "            # apply the backward with the loss we got\n",
    "            loss.backward()\n",
    "            # apply step for the updates\n",
    "            optimizer.step()\n",
    "            # calculate mae and update the measures\n",
    "            batch_metric = get_recon_mae(x,recon)\n",
    "            running_tr_loss += loss\n",
    "            running_tr_metric.append(batch_metric)\n",
    "        \n",
    "        # update the learning rate\n",
    "        lr = lr*args.lr_step_decay \n",
    "        \n",
    "        # update loss and mae in the train lists\n",
    "        tr_loss[epoch] = running_tr_loss.item() / len(tr_dataloader)\n",
    "        tr_recon_metric[epoch]  = np.array(running_tr_metric).mean()    \n",
    "        # if we use validation \n",
    "        if val_dataloader:\n",
    "            # calculate and update the metrics for validation\n",
    "            val_loss[epoch], val_recon_metric[epoch], val_metric[epoch] = infer(net, val_dataloader, criterion, normalization)   \n",
    "            print(f\"epoch {epoch} validation recon mae: {val_recon_metric[epoch]} validation test accuracy: {val_metric[epoch]}.\")\n",
    "\n",
    "            # check if we want early stopping if needded # early stopping by val metric \n",
    "            if args.early_stopping:\n",
    "                # check if the minimum epochs applied\n",
    "                if epoch >= args.early_stopping_num_epochs:\n",
    "                    # calculate the improvment in the measures \n",
    "                    improvement = (val_metric[epoch] - val_metric[epoch - args.early_stopping_num_epochs])\n",
    "                    # if the improvment is large than the treshold we define so continue and else break the training\n",
    "                    if improvement < args.early_stopping_min_improvement:\n",
    "                        break                  \n",
    "    \n",
    "    print(f\"Done training for {epoch} epochs.\")\n",
    "\n",
    "    return tr_loss, val_loss, tr_recon_metric, val_recon_metric, val_metric,  epoch, recon  \n"
   ]
  },
  {
   "cell_type": "markdown",
   "metadata": {},
   "source": [
    "<b>7. plots"
   ]
  },
  {
   "cell_type": "code",
   "execution_count": 20,
   "metadata": {},
   "outputs": [],
   "source": [
    "# the function plot 2 plots in the same plot by the type of metric and the number of epochs we gave \n",
    "def plot_metric_per_epoch(metric_res_train, metric_res_test, metric_type, num_epochs):\n",
    "    # get the x axis for the plot bu number of epochs\n",
    "    range_epochs = range(num_epochs)\n",
    "    # create figure for plot\n",
    "    fig, ax = plt.subplots()\n",
    "    # if we have 2 plots\n",
    "    if metric_res_train!= None:\n",
    "        # plot the train metric\n",
    "        ax.plot(range_epochs, metric_res_train, color='royalblue', alpha=0.6, label='train')\n",
    "    # plot the validation metric\n",
    "    ax.plot(range_epochs, metric_res_test, color='deeppink', alpha=0.6, label='validation')\n",
    "    \n",
    "    # add titles and legend and show the plot\n",
    "    ax.set_title(f'{metric_type} per Epoch')\n",
    "    ax.set_xlabel('Epochs')\n",
    "    ax.set_ylabel(f'{metric_type}')\n",
    "    lgnd = ax.legend()\n",
    "    plt.show()"
   ]
  },
  {
   "cell_type": "markdown",
   "metadata": {},
   "source": [
    "--------------\n",
    "## run the 2 models: random and popularity"
   ]
  },
  {
   "cell_type": "markdown",
   "metadata": {},
   "source": [
    "### Random"
   ]
  },
  {
   "cell_type": "markdown",
   "metadata": {},
   "source": [
    "<b> 1. define the number of epochs with validation data"
   ]
  },
  {
   "cell_type": "code",
   "execution_count": 21,
   "metadata": {},
   "outputs": [],
   "source": [
    "# call the function with the parameters\n",
    "args = model_param()\n",
    "# if need valdidation\n",
    "if args.val_quant !=0:\n",
    "    # split the train into train and validation\n",
    "    train_new_matrix, val_matrix , val_users_indexes = split_train_validation_per_user(train_user_item_matrix, args.val_quant)\n",
    "    # rearrange the validation set into val_train, val_test so it will be in the correct reconstruct\n",
    "    val_train_matrix, val_test_df = get_correct_validation_set(val_matrix , val_users_indexes, negative_items_per_user, probabilities)\n",
    "    # define dataloader for validation\n",
    "    val_dataloader = DataLoader(ValidationDataset(val_train_matrix,val_test_df),batch_size=val_train_matrix.shape[0])\n",
    "# if not need validation define the train matrix with all data\n",
    "else:\n",
    "    train_new_matrix = train_user_item_matrix.copy()\n",
    "# define dataloader for training \n",
    "tr_dataloader = DataLoader(TrainDataset(train_new_matrix),batch_size=args.tr_batch_size)\n",
    "# define number of features to input\n",
    "args.in_features = train_user_item_matrix.shape[1]"
   ]
  },
  {
   "cell_type": "code",
   "execution_count": 22,
   "metadata": {
    "scrolled": true
   },
   "outputs": [
    {
     "name": "stdout",
     "output_type": "stream",
     "text": [
      "<bound method Module.modules of AutoEncoder(\n",
      "  (encoder): Sequential(\n",
      "    (0): Linear(in_features=3706, out_features=2500, bias=True)\n",
      "    (1): ReLU()\n",
      "    (2): Linear(in_features=2500, out_features=500, bias=True)\n",
      "    (3): ReLU()\n",
      "    (4): Linear(in_features=500, out_features=50, bias=True)\n",
      "    (5): ReLU()\n",
      "  )\n",
      "  (decoder): Sequential(\n",
      "    (0): Linear(in_features=50, out_features=500, bias=True)\n",
      "    (1): ReLU()\n",
      "    (2): Linear(in_features=500, out_features=2500, bias=True)\n",
      "    (3): ReLU()\n",
      "    (4): Linear(in_features=2500, out_features=3706, bias=True)\n",
      "    (5): Sigmoid()\n",
      "  )\n",
      ")>\n",
      "epoch 0 validation recon mae: 0.08232692629098892 validation test accuracy: 0.8700331125827815.\n",
      "epoch 1 validation recon mae: 0.07612986117601395 validation test accuracy: 0.8725165562913907.\n",
      "epoch 2 validation recon mae: 0.0713556632399559 validation test accuracy: 0.8774834437086093.\n",
      "epoch 3 validation recon mae: 0.07373467087745667 validation test accuracy: 0.8783112582781457.\n",
      "epoch 4 validation recon mae: 0.06658649444580078 validation test accuracy: 0.8783112582781457.\n",
      "epoch 5 validation recon mae: 0.0717737078666687 validation test accuracy: 0.8816225165562914.\n",
      "epoch 6 validation recon mae: 0.0685793086886406 validation test accuracy: 0.8899006622516556.\n",
      "epoch 7 validation recon mae: 0.06453896313905716 validation test accuracy: 0.8932119205298014.\n",
      "epoch 8 validation recon mae: 0.06643908470869064 validation test accuracy: 0.9064569536423841.\n",
      "epoch 9 validation recon mae: 0.06422027200460434 validation test accuracy: 0.9031456953642384.\n",
      "epoch 10 validation recon mae: 0.06416992843151093 validation test accuracy: 0.9064569536423841.\n",
      "epoch 11 validation recon mae: 0.06665486097335815 validation test accuracy: 0.9089403973509934.\n",
      "epoch 12 validation recon mae: 0.06497591733932495 validation test accuracy: 0.9039735099337748.\n",
      "epoch 13 validation recon mae: 0.06459973007440567 validation test accuracy: 0.9130794701986755.\n",
      "epoch 14 validation recon mae: 0.06551342457532883 validation test accuracy: 0.9139072847682119.\n",
      "epoch 15 validation recon mae: 0.06463416665792465 validation test accuracy: 0.9097682119205298.\n",
      "epoch 16 validation recon mae: 0.06434807926416397 validation test accuracy: 0.9139072847682119.\n",
      "epoch 17 validation recon mae: 0.06229830160737038 validation test accuracy: 0.9114238410596026.\n",
      "epoch 18 validation recon mae: 0.06596117466688156 validation test accuracy: 0.9147350993377483.\n",
      "epoch 19 validation recon mae: 0.06432586908340454 validation test accuracy: 0.9139072847682119.\n",
      "epoch 20 validation recon mae: 0.062250297516584396 validation test accuracy: 0.9188741721854304.\n",
      "epoch 21 validation recon mae: 0.06483505666255951 validation test accuracy: 0.9213576158940397.\n",
      "epoch 22 validation recon mae: 0.06265050172805786 validation test accuracy: 0.9205298013245033.\n",
      "epoch 23 validation recon mae: 0.06326302886009216 validation test accuracy: 0.9246688741721855.\n",
      "epoch 24 validation recon mae: 0.06075632944703102 validation test accuracy: 0.9221854304635762.\n",
      "epoch 25 validation recon mae: 0.05963413044810295 validation test accuracy: 0.9163907284768212.\n",
      "epoch 26 validation recon mae: 0.061367135494947433 validation test accuracy: 0.9230132450331126.\n",
      "epoch 27 validation recon mae: 0.05666675046086311 validation test accuracy: 0.9089403973509934.\n",
      "Done training for 27 epochs.\n"
     ]
    }
   ],
   "source": [
    "# change parameter\n",
    "args.weight_to_one = 0.6\n",
    "# create the network of autoencoder\n",
    "net = AutoEncoder(in_features=args.in_features,num_features=args.num_net_channels)\n",
    "# apply the training on the network\n",
    "tr_loss, val_loss, tr_recon_metric, val_recon_metric, val_metric, epoch, recon = training_loop(args,net,tr_dataloader,val_dataloader,normalization=False)"
   ]
  },
  {
   "cell_type": "code",
   "execution_count": 23,
   "metadata": {},
   "outputs": [
    {
     "name": "stdout",
     "output_type": "stream",
     "text": [
      "validation set best accuracy: 0.9221854304635762 for epoch: 23\n"
     ]
    }
   ],
   "source": [
    "# get the number of epochs and print the accuracy\n",
    "final_epoch = val_metric.index(max(val_metric[:epoch])) \n",
    "print(f\"validation set best accuracy: {val_metric[final_epoch+1]} for epoch: {final_epoch}\")"
   ]
  },
  {
   "cell_type": "markdown",
   "metadata": {},
   "source": [
    "<b> 2. plot the metrics"
   ]
  },
  {
   "cell_type": "code",
   "execution_count": 24,
   "metadata": {
    "scrolled": true
   },
   "outputs": [
    {
     "data": {
      "image/png": "[encoded data removed]",
      "text/plain": [
       "<Figure size 432x288 with 1 Axes>"
      ]
     },
     "metadata": {
      "needs_background": "light"
     },
     "output_type": "display_data"
    },
    {
     "data": {
      "image/png": "[encoded data removed]",
      "text/plain": [
       "<Figure size 432x288 with 1 Axes>"
      ]
     },
     "metadata": {
      "needs_background": "light"
     },
     "output_type": "display_data"
    },
    {
     "data": {
      "image/png": "[encoded data removed]",
      "text/plain": [
       "<Figure size 432x288 with 1 Axes>"
      ]
     },
     "metadata": {
      "needs_background": "light"
     },
     "output_type": "display_data"
    }
   ],
   "source": [
    "# plot all the measures\n",
    "plot_metric_per_epoch(metric_res_train=tr_loss[:final_epoch+1],metric_res_test=val_loss[:final_epoch+1],metric_type='Loss',num_epochs=final_epoch+1)\n",
    "plot_metric_per_epoch(metric_res_train=tr_recon_metric[:final_epoch+1],metric_res_test=val_recon_metric[:final_epoch+1],metric_type='recon_mae',num_epochs=final_epoch+1)\n",
    "plot_metric_per_epoch(metric_res_train=None,metric_res_test=val_metric[:final_epoch+1],metric_type='val test accuracy',num_epochs=final_epoch+1)"
   ]
  },
  {
   "cell_type": "markdown",
   "metadata": {},
   "source": [
    "<b> 3. train the whole data (train+validation together) with the chosen number of epochs"
   ]
  },
  {
   "cell_type": "code",
   "execution_count": 25,
   "metadata": {
    "scrolled": true
   },
   "outputs": [
    {
     "name": "stdout",
     "output_type": "stream",
     "text": [
      "<bound method Module.modules of AutoEncoder(\n",
      "  (encoder): Sequential(\n",
      "    (0): Linear(in_features=3706, out_features=2500, bias=True)\n",
      "    (1): ReLU()\n",
      "    (2): Linear(in_features=2500, out_features=500, bias=True)\n",
      "    (3): ReLU()\n",
      "    (4): Linear(in_features=500, out_features=50, bias=True)\n",
      "    (5): ReLU()\n",
      "  )\n",
      "  (decoder): Sequential(\n",
      "    (0): Linear(in_features=50, out_features=500, bias=True)\n",
      "    (1): ReLU()\n",
      "    (2): Linear(in_features=500, out_features=2500, bias=True)\n",
      "    (3): ReLU()\n",
      "    (4): Linear(in_features=2500, out_features=3706, bias=True)\n",
      "    (5): Sigmoid()\n",
      "  )\n",
      ")>\n",
      "Done training for 23 epochs.\n"
     ]
    }
   ],
   "source": [
    "# define the number of fetaures for the input, the parameter of weights and the number of epoch we got\n",
    "args.in_features = train_user_item_matrix.shape[1]\n",
    "args.weight_to_one = 0.6\n",
    "args.num_epochs = final_epoch+1\n",
    "\n",
    "# define train data loader and initilaize the validation dataloader to None\n",
    "tr_dataloader = DataLoader(TrainDataset(train_user_item_matrix),batch_size=args.tr_batch_size)\n",
    "val_dataloader = None \n",
    "\n",
    "# create the network of autoencoder and apply the training on the network\n",
    "uniform_net = AutoEncoder(in_features=args.in_features,num_features=args.num_net_channels)\n",
    "tr_loss, val_loss, tr_recon_metric, val_recon_metric, val_metric, epoch, recon = training_loop(args,uniform_net,tr_dataloader,val_dataloader,normalization=False)"
   ]
  },
  {
   "cell_type": "markdown",
   "metadata": {},
   "source": [
    "<b> 4. predict the test file for random"
   ]
  },
  {
   "cell_type": "code",
   "execution_count": 26,
   "metadata": {},
   "outputs": [],
   "source": [
    "# preprocess the test data as we did for the train (indexes start from 0 instead 1)\n",
    "random_df_temp = test_rand.copy()\n",
    "random_df_temp['Item1'] -= 1\n",
    "random_df_temp['Item2'] -= 1\n",
    "random_df_temp['UserID'] -= 1\n",
    "\n",
    "# create the probabilities feature for dataloader\n",
    "val_users_items_dict = []\n",
    "for userid in random_df_temp['UserID']:\n",
    "    val_users_items_dict.append(np.array(negative_items_per_user[userid][1]).tolist())\n",
    "random_df_temp['item_prop']= val_users_items_dict\n",
    "\n",
    "# define the data loader to the test\n",
    "test_dataloader = DataLoader(ValidationDataset(train_user_item_matrix,random_df_temp),batch_size=train_user_item_matrix.shape[0])\n",
    "\n",
    "# define the mode to eval for evaluation\n",
    "uniform_net.eval()\n",
    "# for the data\n",
    "for user_vec, user, i1, i2, item_prob in test_dataloader:\n",
    "    with torch.no_grad():       \n",
    "        # apply the network\n",
    "        recon = uniform_net(user_vec)\n",
    "        # make prediction\n",
    "        bitClassification = predict_for_test_format(recon, i1, i2, item_prob)\n",
    "\n",
    "# add new columns for the prediction and change it to int (0 or 1) from bolean (false or true)\n",
    "test_rand['bitClassification'] = bitClassification\n",
    "test_rand['bitClassification'] = test_rand['bitClassification'].astype(int)\n",
    "# write the results to csv\n",
    "test_rand.to_csv(\"RandomTest_with_bitClassification.csv\", index=False)"
   ]
  },
  {
   "cell_type": "markdown",
   "metadata": {},
   "source": [
    "### Popularity"
   ]
  },
  {
   "cell_type": "markdown",
   "metadata": {},
   "source": [
    "<b> 1. define the number of epochs with validation data"
   ]
  },
  {
   "cell_type": "code",
   "execution_count": 27,
   "metadata": {},
   "outputs": [],
   "source": [
    "# call the function with the parameters and change the type to popularity\n",
    "args = model_param()\n",
    "args.test_type = 'popularity' \n",
    "# if need valdidation\n",
    "if args.val_quant !=0:\n",
    "    # split the train into train and validation\n",
    "    train_new_matrix, val_matrix , val_users_indexes = split_train_validation_per_user(train_user_item_matrix, args.val_quant)\n",
    "    # rearrange the validation set into val_train, val_test so it will be in the correct reconstruct\n",
    "    val_train_matrix, val_test_df = get_correct_validation_set(val_matrix , val_users_indexes,negative_items_per_user, probabilities)\n",
    "    # define dataloader for validation\n",
    "    val_dataloader = DataLoader(ValidationDataset(val_train_matrix,val_test_df),batch_size=val_train_matrix.shape[0])\n",
    "# if not need validation define the train matrix with all data\n",
    "else:\n",
    "    train_new_matrix = train_user_item_matrix.copy()\n",
    "# define dataloader for training \n",
    "tr_dataloader = DataLoader(TrainDataset(train_new_matrix),batch_size=args.tr_batch_size)\n",
    "# define number of features to input\n",
    "args.in_features = train_user_item_matrix.shape[1]"
   ]
  },
  {
   "cell_type": "markdown",
   "metadata": {},
   "source": [
    "<b> 2. check what give us the best results- with/without normalize"
   ]
  },
  {
   "cell_type": "markdown",
   "metadata": {},
   "source": [
    "without normalization"
   ]
  },
  {
   "cell_type": "code",
   "execution_count": 28,
   "metadata": {
    "scrolled": true
   },
   "outputs": [
    {
     "name": "stdout",
     "output_type": "stream",
     "text": [
      "<bound method Module.modules of AutoEncoder(\n",
      "  (encoder): Sequential(\n",
      "    (0): Linear(in_features=3706, out_features=2500, bias=True)\n",
      "    (1): ReLU()\n",
      "    (2): Linear(in_features=2500, out_features=500, bias=True)\n",
      "    (3): ReLU()\n",
      "    (4): Linear(in_features=500, out_features=50, bias=True)\n",
      "    (5): ReLU()\n",
      "  )\n",
      "  (decoder): Sequential(\n",
      "    (0): Linear(in_features=50, out_features=500, bias=True)\n",
      "    (1): ReLU()\n",
      "    (2): Linear(in_features=500, out_features=2500, bias=True)\n",
      "    (3): ReLU()\n",
      "    (4): Linear(in_features=2500, out_features=3706, bias=True)\n",
      "    (5): Sigmoid()\n",
      "  )\n",
      ")>\n",
      "epoch 0 validation recon mae: 0.0848550796508789 validation test accuracy: 0.5728476821192053.\n",
      "epoch 1 validation recon mae: 0.08193396776914597 validation test accuracy: 0.5852649006622517.\n",
      "epoch 2 validation recon mae: 0.07808230817317963 validation test accuracy: 0.5968543046357616.\n",
      "epoch 3 validation recon mae: 0.07631535828113556 validation test accuracy: 0.6175496688741722.\n",
      "epoch 4 validation recon mae: 0.07027079910039902 validation test accuracy: 0.6183774834437086.\n",
      "epoch 5 validation recon mae: 0.07576853781938553 validation test accuracy: 0.6581125827814569.\n",
      "epoch 6 validation recon mae: 0.07432859390974045 validation test accuracy: 0.6771523178807947.\n",
      "epoch 7 validation recon mae: 0.06899318099021912 validation test accuracy: 0.6862582781456954.\n",
      "epoch 8 validation recon mae: 0.07151450216770172 validation test accuracy: 0.6895695364238411.\n",
      "epoch 9 validation recon mae: 0.0716567188501358 validation test accuracy: 0.7243377483443708.\n",
      "epoch 10 validation recon mae: 0.0690169483423233 validation test accuracy: 0.7276490066225165.\n",
      "epoch 11 validation recon mae: 0.06877483427524567 validation test accuracy: 0.7317880794701986.\n",
      "epoch 12 validation recon mae: 0.06876888126134872 validation test accuracy: 0.7309602649006622.\n",
      "epoch 13 validation recon mae: 0.06748019903898239 validation test accuracy: 0.7293046357615894.\n",
      "epoch 14 validation recon mae: 0.06400829553604126 validation test accuracy: 0.7326158940397351.\n",
      "epoch 15 validation recon mae: 0.06555674970149994 validation test accuracy: 0.7475165562913907.\n",
      "epoch 16 validation recon mae: 0.06670958548784256 validation test accuracy: 0.7524834437086093.\n",
      "epoch 17 validation recon mae: 0.06563695520162582 validation test accuracy: 0.7541390728476821.\n",
      "epoch 18 validation recon mae: 0.06670606136322021 validation test accuracy: 0.7566225165562914.\n",
      "epoch 19 validation recon mae: 0.06577541679143906 validation test accuracy: 0.7649006622516556.\n",
      "epoch 20 validation recon mae: 0.0661020576953888 validation test accuracy: 0.7756622516556292.\n",
      "epoch 21 validation recon mae: 0.06707604229450226 validation test accuracy: 0.7847682119205298.\n",
      "epoch 22 validation recon mae: 0.06592190265655518 validation test accuracy: 0.7798013245033113.\n",
      "epoch 23 validation recon mae: 0.06529092788696289 validation test accuracy: 0.7814569536423841.\n",
      "epoch 24 validation recon mae: 0.06424641609191895 validation test accuracy: 0.7880794701986755.\n",
      "epoch 25 validation recon mae: 0.06648427993059158 validation test accuracy: 0.7905629139072847.\n",
      "epoch 26 validation recon mae: 0.0665547177195549 validation test accuracy: 0.7955298013245033.\n",
      "epoch 27 validation recon mae: 0.0658123791217804 validation test accuracy: 0.7963576158940397.\n",
      "epoch 28 validation recon mae: 0.06316407769918442 validation test accuracy: 0.793046357615894.\n",
      "epoch 29 validation recon mae: 0.06288107484579086 validation test accuracy: 0.7806291390728477.\n",
      "epoch 30 validation recon mae: 0.06189389526844025 validation test accuracy: 0.7872516556291391.\n",
      "epoch 31 validation recon mae: 0.06233101338148117 validation test accuracy: 0.7955298013245033.\n",
      "epoch 32 validation recon mae: 0.06306228786706924 validation test accuracy: 0.8004966887417219.\n",
      "epoch 33 validation recon mae: 0.06579959392547607 validation test accuracy: 0.7756622516556292.\n",
      "Done training for 33 epochs.\n"
     ]
    }
   ],
   "source": [
    "# change parameter\n",
    "args.weight_to_one = 0.6\n",
    "# create the network of autoencoder\n",
    "net2 = AutoEncoder(in_features=args.in_features,num_features=args.num_net_channels)\n",
    "# apply the training on the network\n",
    "tr_loss, val_loss, tr_recon_metric, val_recon_metric, val_metric, epoch, recon = training_loop(args,net2,tr_dataloader,val_dataloader,normalization=False)"
   ]
  },
  {
   "cell_type": "code",
   "execution_count": 29,
   "metadata": {},
   "outputs": [
    {
     "name": "stdout",
     "output_type": "stream",
     "text": [
      "validation set best accuracy: 0.7756622516556292 for epoch: 32\n"
     ]
    }
   ],
   "source": [
    "# get the number of epochs and print the accuracy\n",
    "final_epoch = val_metric.index(max(val_metric[:epoch])) \n",
    "print(f\"validation set best accuracy: {val_metric[final_epoch+1]} for epoch: {final_epoch}\")"
   ]
  },
  {
   "cell_type": "markdown",
   "metadata": {},
   "source": [
    "with normalization"
   ]
  },
  {
   "cell_type": "code",
   "execution_count": 30,
   "metadata": {
    "scrolled": true
   },
   "outputs": [
    {
     "name": "stdout",
     "output_type": "stream",
     "text": [
      "<bound method Module.modules of AutoEncoder(\n",
      "  (encoder): Sequential(\n",
      "    (0): Linear(in_features=3706, out_features=2500, bias=True)\n",
      "    (1): ReLU()\n",
      "    (2): Linear(in_features=2500, out_features=500, bias=True)\n",
      "    (3): ReLU()\n",
      "    (4): Linear(in_features=500, out_features=50, bias=True)\n",
      "    (5): ReLU()\n",
      "  )\n",
      "  (decoder): Sequential(\n",
      "    (0): Linear(in_features=50, out_features=500, bias=True)\n",
      "    (1): ReLU()\n",
      "    (2): Linear(in_features=500, out_features=2500, bias=True)\n",
      "    (3): ReLU()\n",
      "    (4): Linear(in_features=2500, out_features=3706, bias=True)\n",
      "    (5): Sigmoid()\n",
      "  )\n",
      ")>\n",
      "epoch 0 validation recon mae: 0.08328607678413391 validation test accuracy: 0.5554635761589404.\n",
      "epoch 1 validation recon mae: 0.08496033400297165 validation test accuracy: 0.5902317880794702.\n",
      "epoch 2 validation recon mae: 0.07107097655534744 validation test accuracy: 0.5943708609271523.\n",
      "epoch 3 validation recon mae: 0.08135952800512314 validation test accuracy: 0.6258278145695364.\n",
      "epoch 4 validation recon mae: 0.07530007511377335 validation test accuracy: 0.6415562913907285.\n",
      "epoch 5 validation recon mae: 0.07625746726989746 validation test accuracy: 0.6473509933774835.\n",
      "epoch 6 validation recon mae: 0.07563873380422592 validation test accuracy: 0.6672185430463576.\n",
      "epoch 7 validation recon mae: 0.07340503484010696 validation test accuracy: 0.706953642384106.\n",
      "epoch 8 validation recon mae: 0.07176417112350464 validation test accuracy: 0.722682119205298.\n",
      "epoch 9 validation recon mae: 0.06971277296543121 validation test accuracy: 0.7458609271523179.\n",
      "epoch 10 validation recon mae: 0.07142424583435059 validation test accuracy: 0.7483443708609272.\n",
      "epoch 11 validation recon mae: 0.06649650633335114 validation test accuracy: 0.7706953642384106.\n",
      "epoch 12 validation recon mae: 0.06777428835630417 validation test accuracy: 0.7557947019867549.\n",
      "epoch 13 validation recon mae: 0.06730640679597855 validation test accuracy: 0.7798013245033113.\n",
      "epoch 14 validation recon mae: 0.06726299971342087 validation test accuracy: 0.7872516556291391.\n",
      "epoch 15 validation recon mae: 0.06751666963100433 validation test accuracy: 0.7847682119205298.\n",
      "epoch 16 validation recon mae: 0.06457901000976562 validation test accuracy: 0.8021523178807947.\n",
      "epoch 17 validation recon mae: 0.06774880737066269 validation test accuracy: 0.793046357615894.\n",
      "epoch 18 validation recon mae: 0.0645684078335762 validation test accuracy: 0.7971854304635762.\n",
      "epoch 19 validation recon mae: 0.06537318974733353 validation test accuracy: 0.7938741721854304.\n",
      "epoch 20 validation recon mae: 0.06544429063796997 validation test accuracy: 0.8112582781456954.\n",
      "epoch 21 validation recon mae: 0.06348326057195663 validation test accuracy: 0.8096026490066225.\n",
      "epoch 22 validation recon mae: 0.06373132765293121 validation test accuracy: 0.804635761589404.\n",
      "epoch 23 validation recon mae: 0.0643911063671112 validation test accuracy: 0.8079470198675497.\n",
      "epoch 24 validation recon mae: 0.06199131906032562 validation test accuracy: 0.8021523178807947.\n",
      "epoch 25 validation recon mae: 0.06286003440618515 validation test accuracy: 0.8120860927152318.\n",
      "epoch 26 validation recon mae: 0.06415581703186035 validation test accuracy: 0.8062913907284768.\n",
      "epoch 27 validation recon mae: 0.06316085904836655 validation test accuracy: 0.8120860927152318.\n",
      "epoch 28 validation recon mae: 0.06469152867794037 validation test accuracy: 0.8129139072847682.\n",
      "epoch 29 validation recon mae: 0.06636130064725876 validation test accuracy: 0.8129139072847682.\n",
      "epoch 30 validation recon mae: 0.06836660951375961 validation test accuracy: 0.8112582781456954.\n",
      "epoch 31 validation recon mae: 0.06761641055345535 validation test accuracy: 0.8145695364238411.\n",
      "epoch 32 validation recon mae: 0.06067564710974693 validation test accuracy: 0.8145695364238411.\n",
      "epoch 33 validation recon mae: 0.06566206365823746 validation test accuracy: 0.8038079470198676.\n",
      "Done training for 33 epochs.\n"
     ]
    }
   ],
   "source": [
    "# change parameter\n",
    "args.weight_to_one = 0.6\n",
    "# create the network of autoencoder\n",
    "net2 = AutoEncoder(in_features=args.in_features,num_features=args.num_net_channels)\n",
    "# apply the training on the network\n",
    "tr_loss, val_loss, tr_recon_metric, val_recon_metric, val_metric, epoch, recon = training_loop(args,net2,tr_dataloader,val_dataloader,normalization=True)"
   ]
  },
  {
   "cell_type": "code",
   "execution_count": 31,
   "metadata": {},
   "outputs": [
    {
     "name": "stdout",
     "output_type": "stream",
     "text": [
      "validation set best accuracy: 0.8145695364238411 for epoch: 31\n"
     ]
    }
   ],
   "source": [
    "# get the number of epochs and print the accuracy\n",
    "final_epoch = val_metric.index(max(val_metric[:epoch])) \n",
    "print(f\"validation set best accuracy: {val_metric[final_epoch+1]} for epoch: {final_epoch}\")"
   ]
  },
  {
   "cell_type": "markdown",
   "metadata": {},
   "source": [
    "The results are: <br>\n",
    "- without:  best accuracy: 0.776 for epoch: 32\n",
    "- with:     best accuracy: 0.815 for epoch: 31\n",
    "\n",
    "From the results above we can see that normalize the predicted probability for class 1, with the negative probability of its item per user achieved better results. <br>\n",
    "The metrics below has been done to the model with normalization."
   ]
  },
  {
   "cell_type": "markdown",
   "metadata": {},
   "source": [
    "<b> 3. plot the metrics"
   ]
  },
  {
   "cell_type": "code",
   "execution_count": 32,
   "metadata": {
    "scrolled": true
   },
   "outputs": [
    {
     "data": {
      "image/png": "[encoded data removed]",
      "text/plain": [
       "<Figure size 432x288 with 1 Axes>"
      ]
     },
     "metadata": {
      "needs_background": "light"
     },
     "output_type": "display_data"
    },
    {
     "data": {
      "image/png": "[encoded data removed]",
      "text/plain": [
       "<Figure size 432x288 with 1 Axes>"
      ]
     },
     "metadata": {
      "needs_background": "light"
     },
     "output_type": "display_data"
    },
    {
     "data": {
      "image/png": "[encoded data removed]",
      "text/plain": [
       "<Figure size 432x288 with 1 Axes>"
      ]
     },
     "metadata": {
      "needs_background": "light"
     },
     "output_type": "display_data"
    }
   ],
   "source": [
    "# plot all the measures\n",
    "plot_metric_per_epoch(metric_res_train=tr_loss[:final_epoch+1],metric_res_test=val_loss[:final_epoch+1],metric_type='Loss',num_epochs=final_epoch+1)\n",
    "plot_metric_per_epoch(metric_res_train=tr_recon_metric[:final_epoch+1],metric_res_test=val_recon_metric[:final_epoch+1],metric_type='recon_mae',num_epochs=final_epoch+1)\n",
    "plot_metric_per_epoch(metric_res_train=None,metric_res_test=val_metric[:final_epoch+1],metric_type='val test accuracy',num_epochs=final_epoch+1)"
   ]
  },
  {
   "cell_type": "markdown",
   "metadata": {},
   "source": [
    "<b> 4. train the whole data (train+validation together) with the chosen number of epochs"
   ]
  },
  {
   "cell_type": "code",
   "execution_count": 33,
   "metadata": {
    "scrolled": false
   },
   "outputs": [
    {
     "name": "stdout",
     "output_type": "stream",
     "text": [
      "<bound method Module.modules of AutoEncoder(\n",
      "  (encoder): Sequential(\n",
      "    (0): Linear(in_features=3706, out_features=2500, bias=True)\n",
      "    (1): ReLU()\n",
      "    (2): Linear(in_features=2500, out_features=500, bias=True)\n",
      "    (3): ReLU()\n",
      "    (4): Linear(in_features=500, out_features=50, bias=True)\n",
      "    (5): ReLU()\n",
      "  )\n",
      "  (decoder): Sequential(\n",
      "    (0): Linear(in_features=50, out_features=500, bias=True)\n",
      "    (1): ReLU()\n",
      "    (2): Linear(in_features=500, out_features=2500, bias=True)\n",
      "    (3): ReLU()\n",
      "    (4): Linear(in_features=2500, out_features=3706, bias=True)\n",
      "    (5): Sigmoid()\n",
      "  )\n",
      ")>\n",
      "Done training for 31 epochs.\n"
     ]
    }
   ],
   "source": [
    "# define the number of fetaures for the input, the parameter of weights, type and the number of epoch we got\n",
    "args.test_type = 'popularity' \n",
    "args.in_features = train_user_item_matrix.shape[1]\n",
    "args.weight_to_one = 0.6\n",
    "args.num_epochs = final_epoch+1\n",
    "\n",
    "# define train data loader and initilaize the validation dataloader to None\n",
    "tr_dataloader = DataLoader(TrainDataset(train_user_item_matrix),batch_size=args.tr_batch_size)\n",
    "val_dataloader = None \n",
    "\n",
    "# create the network of autoencoder and apply the training on the network\n",
    "pop_net = AutoEncoder(in_features=args.in_features,num_features=args.num_net_channels)\n",
    "tr_loss, val_loss, tr_recon_metric, val_recon_metric, val_metric, epoch, recon = training_loop(args,pop_net,tr_dataloader,val_dataloader,normalization=True)"
   ]
  },
  {
   "cell_type": "markdown",
   "metadata": {},
   "source": [
    "<b> 5. predict the test file for popularity"
   ]
  },
  {
   "cell_type": "code",
   "execution_count": 34,
   "metadata": {},
   "outputs": [],
   "source": [
    "# preprocess the test data as we did for the train (indexes start from 0 instead 1)\n",
    "pop_df_temp = test_pop.copy()\n",
    "pop_df_temp['Item1'] -=1\n",
    "pop_df_temp['Item2'] -=1\n",
    "pop_df_temp['UserID'] -=1\n",
    "\n",
    "# create the probabilities feature for dataloader\n",
    "val_users_items_dict = []\n",
    "for userid in pop_df_temp['UserID']:\n",
    "    val_users_items_dict.append(np.array(negative_items_per_user[userid][0]).tolist())\n",
    "pop_df_temp['item_prop']= val_users_items_dict\n",
    "\n",
    "# define the data loader to the test\n",
    "test_dataloader = DataLoader(ValidationDataset(train_user_item_matrix,pop_df_temp),batch_size=train_user_item_matrix.shape[0])\n",
    "\n",
    "# define the mode to eval for evaluation\n",
    "pop_net.eval()\n",
    "# for the data\n",
    "for user_vec, user, i1, i2, item_prob in test_dataloader:\n",
    "    with torch.no_grad():\n",
    "        # apply the network\n",
    "        recon = pop_net(user_vec)\n",
    "        # make prediction\n",
    "        bitClassification = predict_for_test_format(recon, i1, i2, item_prob)\n",
    "\n",
    "# add new columns for the prediction and change it to int (0 or 1) from bolean (false or true)        \n",
    "test_pop['bitClassification'] = bitClassification\n",
    "test_pop['bitClassification'] = test_pop['bitClassification'].astype(int)\n",
    "# write the results to csv\n",
    "test_pop.to_csv(\"PopularityTest_with_bitClassification.csv\", index=False)"
   ]
  }
 ],
 "metadata": {
  "kernelspec": {
   "display_name": "Python 3",
   "language": "python",
   "name": "python3"
  },
  "language_info": {
   "codemirror_mode": {
    "name": "ipython",
    "version": 3
   },
   "file_extension": ".py",
   "mimetype": "text/x-python",
   "name": "python",
   "nbconvert_exporter": "python",
   "pygments_lexer": "ipython3",
   "version": "3.8.5"
  }
 },
 "nbformat": 4,
 "nbformat_minor": 4
}
